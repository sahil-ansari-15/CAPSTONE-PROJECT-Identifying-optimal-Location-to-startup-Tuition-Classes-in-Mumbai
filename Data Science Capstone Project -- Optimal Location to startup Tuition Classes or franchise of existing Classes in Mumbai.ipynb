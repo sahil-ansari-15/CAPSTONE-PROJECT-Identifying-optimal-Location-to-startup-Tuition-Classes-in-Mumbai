{
 "cells": [
  {
   "cell_type": "markdown",
   "metadata": {},
   "source": [
    "<h1 align=center><font size = 15 color = '#0C1150'>Optimal Location to </font> <font size = 20 color = 'red'><em>startup Tuition Classes </em></font> <font size = 8 color = '#0C1150'>or franchise of existing Classes in Mumbai\n",
    "</font></h1>\n",
    "<a><img src = \"https://isaaclangslow.files.wordpress.com/2013/11/mumbai-skyline-panorama.jpg\"> </a>"
   ]
  },
  {
   "cell_type": "markdown",
   "metadata": {},
   "source": [
    "## Table of contents\n",
    "* [Introduction: Business Problem](#introduction)\n",
    "* [Data](#data)\n",
    "* [Methodology](#methodology)\n",
    "* [Analysis](#analysis)\n",
    "* [Results](#results)\n",
    "* [Discussion](#Discussion)\n",
    "* [Conclusion](#conclusion)"
   ]
  },
  {
   "cell_type": "markdown",
   "metadata": {},
   "source": [
    "## Introduction: Business Problem <a name=\"introduction\"></a>"
   ]
  },
  {
   "cell_type": "markdown",
   "metadata": {},
   "source": [
    "In this project we will try to find an optimal location to startup Tuition Classes or franchise of existing Classes. This analysis will be targeted to stakeholders interested in opening a private Tuition Classes or management of existing Classes to expand thier bussiness & revenue by opening new branch/franchise in Mumbai, India.\n",
    "\n",
    "Since there are lots of Classes in Mumbai we will try to detect locations that are not already crowded with Classes and having good number of existing Schools & Colleges to ensure sufficient student admistions and less bussiness competition. We will also consider Commercial Property Rates of the locations.\n",
    "\n",
    "We will use our data science powers to generate a few most promissing Area based on these criteria so that best possible final location can be chosen by stakeholders."
   ]
  },
  {
   "cell_type": "markdown",
   "metadata": {},
   "source": [
    "## Data <a name=\"data\"></a>"
   ]
  },
  {
   "cell_type": "markdown",
   "metadata": {},
   "source": [
    "Based on definition of our problem, factors that will influence our decission are:\n",
    "* Number of existing Schools & Colleges in the area.\n",
    "* Number of existing Tutorials & Classes in the area.\n",
    "* Commercial Property Rates of the area.\n",
    "\n",
    "Following data sources will be needed to extract/generate the required information:\n",
    "* List of all Areas in Mumbai along with their geographical coordinates (latitude & longitude) & location is web-scraped from **Wikipedia** website.\n",
    "* Commercial property rates of each area is collected from major Indian **online real estate platforms** (like MagicBricks & 99Acres).\n",
    "* Neighbourhood Schools, Colleges and Classes in each Area will be retrieved using **Foursquare API** (a location data provider)."
   ]
  },
  {
   "cell_type": "markdown",
   "metadata": {},
   "source": [
    "## Methodology <a name=\"methodology\"></a>"
   ]
  },
  {
   "cell_type": "markdown",
   "metadata": {},
   "source": [
    "In this project we will direct our efforts on detecting areas of Mumbai having high number of Schools & Colleges, low number of existing private tuition Classes and affordable property rates.\n",
    "\n",
    "Steps:\n",
    "* Make dataframe containing area name, location, latitude & longitude  data (all 67 Areas) web-scrapped from Wikipedia page (https://en.wikipedia.org/wiki/List_of_neighbourhoods_in_Mumbai#Other) and commercial property rate (per square feet) from major Indian online real estate platforms (like MagicBricks & 99Acres).\n",
    "* Plot all Areas on Map showing respective Property Rates using python folium library.\n",
    "* Collect JSON from **Foursquare API** containing data of all nearby Schools, Colleges & Classes in each of the Areas in radius of 2 kilometres.\n",
    "* Extract required data from JSON & put it in the dataframes. Then groupby dataframes using Area name such that we will get \n",
    ">(1) Total number of schools/colleges in each Area.\n",
    "(2) Total number of Classes in each Area.\n",
    "(3) Average property rates of each area.\n",
    "* Calculate **Business Opportunity Index** for each Area. A good Business Opportunity Index means there are more Schools/Colleges and less Classes in a Area. \n",
    "> Business Opportunity Index = (Total no. of Schools & Colleges) / [ (Total no. of Classes & Tutorials) + 1 ]\n",
    "* Cluster Areas using **k-Means clustering** algorithm. Use **Elbow method** for deciding number of clusters. Parameters  use for clustering each Area will be: \n",
    ">(1)Property rates.\n",
    ">>(2) Business Opportunity Index. \n",
    ">>>(a) Total number of Schools & Colleges.\n",
    "(b) Total number of Classes & Tutorials.\n",
    "* Select cluster of Areas having high number of Schools & college and less existing Classes and affordable property rates.\n",
    "* Now, for more short listing of Areas apply a limit on Property prices depending on the investing capacity of the stakeholder.\n",
    "* Plot the selected optimal areas of map using Folium library."
   ]
  },
  {
   "cell_type": "markdown",
   "metadata": {},
   "source": [
    "# Analysis <a name=\"analysis\"></a>"
   ]
  },
  {
   "cell_type": "markdown",
   "metadata": {},
   "source": [
    "### Importing the Dependencies."
   ]
  },
  {
   "cell_type": "code",
   "execution_count": 1,
   "metadata": {},
   "outputs": [
    {
     "name": "stdout",
     "output_type": "stream",
     "text": [
      "Requirement already satisfied: geopy in c:\\users\\kakadiya\\anaconda3\\lib\\site-packages (2.0.0)\n",
      "Requirement already satisfied: geographiclib<2,>=1.49 in c:\\users\\kakadiya\\anaconda3\\lib\\site-packages (from geopy) (1.50)\n"
     ]
    },
    {
     "name": "stderr",
     "output_type": "stream",
     "text": [
      "ERROR: Invalid requirement: '##or'\n"
     ]
    },
    {
     "name": "stdout",
     "output_type": "stream",
     "text": [
      "Libraries imported.\n"
     ]
    }
   ],
   "source": [
    "import numpy as np # library to handle data in a vectorized manner\n",
    "\n",
    "import pandas as pd # library for data analsysis\n",
    "pd.set_option('display.max_columns', None)\n",
    "pd.set_option('display.max_rows', None)\n",
    "\n",
    "import json # library to handle JSON files\n",
    "\n",
    "#!conda install -c conda-forge geopy --yes # uncomment this line if you haven't completed the Foursquare API lab\n",
    "!pip install geopy \n",
    "### line added by me :)\n",
    "from geopy.geocoders import Nominatim # convert an address into latitude and longitude values\n",
    "\n",
    "import requests # library to handle requests\n",
    "from pandas.io.json import json_normalize # tranform JSON file into a pandas dataframe\n",
    "\n",
    "# Matplotlib and associated plotting modules\n",
    "import matplotlib.cm as cm\n",
    "import matplotlib.colors as colors\n",
    "\n",
    "# import k-means from clustering stage\n",
    "from sklearn.cluster import KMeans\n",
    "\n",
    "#!conda install -c conda-forge folium==0.5.0 --yes # uncomment this line if you haven't completed the Foursquare API lab\n",
    "! pip install folium==0.5.0       ##or\n",
    "import folium # map rendering library\n",
    "\n",
    "print('Libraries imported.')"
   ]
  },
  {
   "cell_type": "markdown",
   "metadata": {},
   "source": [
    "### Scraping the Neighborhoods(Areas) in Mumbai from the Wikipedia Page."
   ]
  },
  {
   "cell_type": "code",
   "execution_count": 2,
   "metadata": {},
   "outputs": [],
   "source": [
    "url = \"https://en.wikipedia.org/wiki/List_of_neighbourhoods_in_Mumbai#Other\"\n",
    "dfs = pd.read_html(url)"
   ]
  },
  {
   "cell_type": "code",
   "execution_count": 3,
   "metadata": {
    "scrolled": false
   },
   "outputs": [
    {
     "name": "stdout",
     "output_type": "stream",
     "text": [
      "(93, 4)\n"
     ]
    },
    {
     "data": {
      "text/html": [
       "<div>\n",
       "<style scoped>\n",
       "    .dataframe tbody tr th:only-of-type {\n",
       "        vertical-align: middle;\n",
       "    }\n",
       "\n",
       "    .dataframe tbody tr th {\n",
       "        vertical-align: top;\n",
       "    }\n",
       "\n",
       "    .dataframe thead th {\n",
       "        text-align: right;\n",
       "    }\n",
       "</style>\n",
       "<table border=\"1\" class=\"dataframe\">\n",
       "  <thead>\n",
       "    <tr style=\"text-align: right;\">\n",
       "      <th></th>\n",
       "      <th>Area</th>\n",
       "      <th>Location</th>\n",
       "      <th>Latitude</th>\n",
       "      <th>Longitude</th>\n",
       "    </tr>\n",
       "  </thead>\n",
       "  <tbody>\n",
       "    <tr>\n",
       "      <th>0</th>\n",
       "      <td>Amboli</td>\n",
       "      <td>Andheri,Western Suburbs</td>\n",
       "      <td>19.129300</td>\n",
       "      <td>72.843400</td>\n",
       "    </tr>\n",
       "    <tr>\n",
       "      <th>1</th>\n",
       "      <td>Chakala, Andheri</td>\n",
       "      <td>Western Suburbs</td>\n",
       "      <td>19.111388</td>\n",
       "      <td>72.860833</td>\n",
       "    </tr>\n",
       "    <tr>\n",
       "      <th>2</th>\n",
       "      <td>D.N. Nagar</td>\n",
       "      <td>Andheri,Western Suburbs</td>\n",
       "      <td>19.124085</td>\n",
       "      <td>72.831373</td>\n",
       "    </tr>\n",
       "    <tr>\n",
       "      <th>3</th>\n",
       "      <td>Four Bungalows</td>\n",
       "      <td>Andheri,Western Suburbs</td>\n",
       "      <td>19.124714</td>\n",
       "      <td>72.827210</td>\n",
       "    </tr>\n",
       "    <tr>\n",
       "      <th>4</th>\n",
       "      <td>Lokhandwala</td>\n",
       "      <td>Andheri,Western Suburbs</td>\n",
       "      <td>19.130815</td>\n",
       "      <td>72.829270</td>\n",
       "    </tr>\n",
       "    <tr>\n",
       "      <th>5</th>\n",
       "      <td>Marol</td>\n",
       "      <td>Andheri,Western Suburbs</td>\n",
       "      <td>19.119219</td>\n",
       "      <td>72.882743</td>\n",
       "    </tr>\n",
       "    <tr>\n",
       "      <th>6</th>\n",
       "      <td>Sahar</td>\n",
       "      <td>Andheri,Western Suburbs</td>\n",
       "      <td>19.098889</td>\n",
       "      <td>72.867222</td>\n",
       "    </tr>\n",
       "    <tr>\n",
       "      <th>7</th>\n",
       "      <td>Seven Bungalows</td>\n",
       "      <td>Andheri,Western Suburbs</td>\n",
       "      <td>19.129052</td>\n",
       "      <td>72.817018</td>\n",
       "    </tr>\n",
       "    <tr>\n",
       "      <th>8</th>\n",
       "      <td>Versova</td>\n",
       "      <td>Andheri,Western Suburbs</td>\n",
       "      <td>19.120000</td>\n",
       "      <td>72.820000</td>\n",
       "    </tr>\n",
       "    <tr>\n",
       "      <th>9</th>\n",
       "      <td>Mira Road</td>\n",
       "      <td>Mira-Bhayandar,Western Suburbs</td>\n",
       "      <td>19.284167</td>\n",
       "      <td>72.871111</td>\n",
       "    </tr>\n",
       "    <tr>\n",
       "      <th>10</th>\n",
       "      <td>Bhayandar</td>\n",
       "      <td>Mira-Bhayandar,Western Suburbs</td>\n",
       "      <td>19.290000</td>\n",
       "      <td>72.850000</td>\n",
       "    </tr>\n",
       "    <tr>\n",
       "      <th>11</th>\n",
       "      <td>Uttan</td>\n",
       "      <td>Mira-Bhayandar,Western Suburbs</td>\n",
       "      <td>19.280000</td>\n",
       "      <td>72.785000</td>\n",
       "    </tr>\n",
       "    <tr>\n",
       "      <th>12</th>\n",
       "      <td>Bandstand Promenade</td>\n",
       "      <td>Bandra,Western Suburbs</td>\n",
       "      <td>19.042718</td>\n",
       "      <td>72.819132</td>\n",
       "    </tr>\n",
       "    <tr>\n",
       "      <th>13</th>\n",
       "      <td>Kherwadi</td>\n",
       "      <td>Bandra,Western Suburbs</td>\n",
       "      <td>19.055300</td>\n",
       "      <td>72.831400</td>\n",
       "    </tr>\n",
       "    <tr>\n",
       "      <th>14</th>\n",
       "      <td>Pali Hill</td>\n",
       "      <td>Bandra,Western Suburbs</td>\n",
       "      <td>19.068000</td>\n",
       "      <td>72.826000</td>\n",
       "    </tr>\n",
       "  </tbody>\n",
       "</table>\n",
       "</div>"
      ],
      "text/plain": [
       "                   Area                        Location   Latitude  Longitude\n",
       "0                Amboli         Andheri,Western Suburbs  19.129300  72.843400\n",
       "1      Chakala, Andheri                 Western Suburbs  19.111388  72.860833\n",
       "2            D.N. Nagar         Andheri,Western Suburbs  19.124085  72.831373\n",
       "3        Four Bungalows         Andheri,Western Suburbs  19.124714  72.827210\n",
       "4           Lokhandwala         Andheri,Western Suburbs  19.130815  72.829270\n",
       "5                 Marol         Andheri,Western Suburbs  19.119219  72.882743\n",
       "6                 Sahar         Andheri,Western Suburbs  19.098889  72.867222\n",
       "7       Seven Bungalows         Andheri,Western Suburbs  19.129052  72.817018\n",
       "8               Versova         Andheri,Western Suburbs  19.120000  72.820000\n",
       "9             Mira Road  Mira-Bhayandar,Western Suburbs  19.284167  72.871111\n",
       "10            Bhayandar  Mira-Bhayandar,Western Suburbs  19.290000  72.850000\n",
       "11                Uttan  Mira-Bhayandar,Western Suburbs  19.280000  72.785000\n",
       "12  Bandstand Promenade          Bandra,Western Suburbs  19.042718  72.819132\n",
       "13             Kherwadi          Bandra,Western Suburbs  19.055300  72.831400\n",
       "14            Pali Hill          Bandra,Western Suburbs  19.068000  72.826000"
      ]
     },
     "execution_count": 3,
     "metadata": {},
     "output_type": "execute_result"
    }
   ],
   "source": [
    "neighborhood_df = dfs[0]\n",
    "print(neighborhood_df.shape)\n",
    "neighborhood_df.head(15) "
   ]
  },
  {
   "cell_type": "markdown",
   "metadata": {},
   "source": [
    "### Downloading the Commercial Property Rate Data."
   ]
  },
  {
   "cell_type": "code",
   "execution_count": 4,
   "metadata": {},
   "outputs": [
    {
     "name": "stdout",
     "output_type": "stream",
     "text": [
      "(93, 3)\n"
     ]
    },
    {
     "data": {
      "text/html": [
       "<div>\n",
       "<style scoped>\n",
       "    .dataframe tbody tr th:only-of-type {\n",
       "        vertical-align: middle;\n",
       "    }\n",
       "\n",
       "    .dataframe tbody tr th {\n",
       "        vertical-align: top;\n",
       "    }\n",
       "\n",
       "    .dataframe thead th {\n",
       "        text-align: right;\n",
       "    }\n",
       "</style>\n",
       "<table border=\"1\" class=\"dataframe\">\n",
       "  <thead>\n",
       "    <tr style=\"text-align: right;\">\n",
       "      <th></th>\n",
       "      <th>Area</th>\n",
       "      <th>Location</th>\n",
       "      <th>Rate</th>\n",
       "    </tr>\n",
       "  </thead>\n",
       "  <tbody>\n",
       "    <tr>\n",
       "      <th>0</th>\n",
       "      <td>Amboli</td>\n",
       "      <td>Andheri,Western Suburbs</td>\n",
       "      <td>18000.0</td>\n",
       "    </tr>\n",
       "    <tr>\n",
       "      <th>1</th>\n",
       "      <td>Chakala, Andheri</td>\n",
       "      <td>Western Suburbs</td>\n",
       "      <td>14750.0</td>\n",
       "    </tr>\n",
       "    <tr>\n",
       "      <th>2</th>\n",
       "      <td>D.N. Nagar</td>\n",
       "      <td>Andheri,Western Suburbs</td>\n",
       "      <td>18000.0</td>\n",
       "    </tr>\n",
       "    <tr>\n",
       "      <th>3</th>\n",
       "      <td>Four Bungalows</td>\n",
       "      <td>Andheri,Western Suburbs</td>\n",
       "      <td>18000.0</td>\n",
       "    </tr>\n",
       "    <tr>\n",
       "      <th>4</th>\n",
       "      <td>Lokhandwala</td>\n",
       "      <td>Andheri,Western Suburbs</td>\n",
       "      <td>18000.0</td>\n",
       "    </tr>\n",
       "  </tbody>\n",
       "</table>\n",
       "</div>"
      ],
      "text/plain": [
       "               Area                 Location     Rate\n",
       "0            Amboli  Andheri,Western Suburbs  18000.0\n",
       "1  Chakala, Andheri          Western Suburbs  14750.0\n",
       "2        D.N. Nagar  Andheri,Western Suburbs  18000.0\n",
       "3    Four Bungalows  Andheri,Western Suburbs  18000.0\n",
       "4       Lokhandwala  Andheri,Western Suburbs  18000.0"
      ]
     },
     "execution_count": 4,
     "metadata": {},
     "output_type": "execute_result"
    }
   ],
   "source": [
    "url_1 = 'https://drive.google.com/uc?export=download&id=1a2lBIVAgxwIPtavdJh7CLpObKaxXxuB9'\n",
    "property_rates_df = pd.read_csv(url_1)\n",
    "print(property_rates_df.shape)\n",
    "property_rates_df.head()"
   ]
  },
  {
   "cell_type": "code",
   "execution_count": 5,
   "metadata": {},
   "outputs": [
    {
     "name": "stdout",
     "output_type": "stream",
     "text": [
      "(67, 5)\n"
     ]
    },
    {
     "data": {
      "text/html": [
       "<div>\n",
       "<style scoped>\n",
       "    .dataframe tbody tr th:only-of-type {\n",
       "        vertical-align: middle;\n",
       "    }\n",
       "\n",
       "    .dataframe tbody tr th {\n",
       "        vertical-align: top;\n",
       "    }\n",
       "\n",
       "    .dataframe thead th {\n",
       "        text-align: right;\n",
       "    }\n",
       "</style>\n",
       "<table border=\"1\" class=\"dataframe\">\n",
       "  <thead>\n",
       "    <tr style=\"text-align: right;\">\n",
       "      <th></th>\n",
       "      <th>Area</th>\n",
       "      <th>Location</th>\n",
       "      <th>Latitude</th>\n",
       "      <th>Longitude</th>\n",
       "      <th>Rate</th>\n",
       "    </tr>\n",
       "  </thead>\n",
       "  <tbody>\n",
       "    <tr>\n",
       "      <th>0</th>\n",
       "      <td>Amboli</td>\n",
       "      <td>Andheri,Western Suburbs</td>\n",
       "      <td>19.129300</td>\n",
       "      <td>72.843400</td>\n",
       "      <td>18000.0</td>\n",
       "    </tr>\n",
       "    <tr>\n",
       "      <th>1</th>\n",
       "      <td>Chakala, Andheri</td>\n",
       "      <td>Western Suburbs</td>\n",
       "      <td>19.111388</td>\n",
       "      <td>72.860833</td>\n",
       "      <td>14750.0</td>\n",
       "    </tr>\n",
       "    <tr>\n",
       "      <th>2</th>\n",
       "      <td>D.N. Nagar</td>\n",
       "      <td>Andheri,Western Suburbs</td>\n",
       "      <td>19.124085</td>\n",
       "      <td>72.831373</td>\n",
       "      <td>18000.0</td>\n",
       "    </tr>\n",
       "    <tr>\n",
       "      <th>3</th>\n",
       "      <td>Four Bungalows</td>\n",
       "      <td>Andheri,Western Suburbs</td>\n",
       "      <td>19.124714</td>\n",
       "      <td>72.827210</td>\n",
       "      <td>18000.0</td>\n",
       "    </tr>\n",
       "    <tr>\n",
       "      <th>4</th>\n",
       "      <td>Lokhandwala</td>\n",
       "      <td>Andheri,Western Suburbs</td>\n",
       "      <td>19.130815</td>\n",
       "      <td>72.829270</td>\n",
       "      <td>18000.0</td>\n",
       "    </tr>\n",
       "  </tbody>\n",
       "</table>\n",
       "</div>"
      ],
      "text/plain": [
       "               Area                 Location   Latitude  Longitude     Rate\n",
       "0            Amboli  Andheri,Western Suburbs  19.129300  72.843400  18000.0\n",
       "1  Chakala, Andheri          Western Suburbs  19.111388  72.860833  14750.0\n",
       "2        D.N. Nagar  Andheri,Western Suburbs  19.124085  72.831373  18000.0\n",
       "3    Four Bungalows  Andheri,Western Suburbs  19.124714  72.827210  18000.0\n",
       "4       Lokhandwala  Andheri,Western Suburbs  19.130815  72.829270  18000.0"
      ]
     },
     "execution_count": 5,
     "metadata": {},
     "output_type": "execute_result"
    }
   ],
   "source": [
    "mumbai_df = pd.merge(neighborhood_df, property_rates_df, on=['Area', 'Location'])\n",
    "mumbai_df.dropna(inplace=True)\n",
    "print(mumbai_df.shape)\n",
    "mumbai_df.head()"
   ]
  },
  {
   "cell_type": "code",
   "execution_count": 6,
   "metadata": {
    "scrolled": true
   },
   "outputs": [
    {
     "data": {
      "text/html": [
       "<div>\n",
       "<style scoped>\n",
       "    .dataframe tbody tr th:only-of-type {\n",
       "        vertical-align: middle;\n",
       "    }\n",
       "\n",
       "    .dataframe tbody tr th {\n",
       "        vertical-align: top;\n",
       "    }\n",
       "\n",
       "    .dataframe thead th {\n",
       "        text-align: right;\n",
       "    }\n",
       "</style>\n",
       "<table border=\"1\" class=\"dataframe\">\n",
       "  <thead>\n",
       "    <tr style=\"text-align: right;\">\n",
       "      <th></th>\n",
       "      <th>Area</th>\n",
       "      <th>Location</th>\n",
       "      <th>Latitude</th>\n",
       "      <th>Longitude</th>\n",
       "      <th>Rate</th>\n",
       "      <th>Suburb</th>\n",
       "    </tr>\n",
       "  </thead>\n",
       "  <tbody>\n",
       "    <tr>\n",
       "      <th>0</th>\n",
       "      <td>Amboli</td>\n",
       "      <td>Andheri</td>\n",
       "      <td>19.129300</td>\n",
       "      <td>72.843400</td>\n",
       "      <td>18000.0</td>\n",
       "      <td>Western Suburbs</td>\n",
       "    </tr>\n",
       "    <tr>\n",
       "      <th>1</th>\n",
       "      <td>Chakala, Andheri</td>\n",
       "      <td>Western Suburbs</td>\n",
       "      <td>19.111388</td>\n",
       "      <td>72.860833</td>\n",
       "      <td>14750.0</td>\n",
       "      <td>Western Suburbs</td>\n",
       "    </tr>\n",
       "    <tr>\n",
       "      <th>2</th>\n",
       "      <td>D.N. Nagar</td>\n",
       "      <td>Andheri</td>\n",
       "      <td>19.124085</td>\n",
       "      <td>72.831373</td>\n",
       "      <td>18000.0</td>\n",
       "      <td>Western Suburbs</td>\n",
       "    </tr>\n",
       "    <tr>\n",
       "      <th>3</th>\n",
       "      <td>Four Bungalows</td>\n",
       "      <td>Andheri</td>\n",
       "      <td>19.124714</td>\n",
       "      <td>72.827210</td>\n",
       "      <td>18000.0</td>\n",
       "      <td>Western Suburbs</td>\n",
       "    </tr>\n",
       "    <tr>\n",
       "      <th>4</th>\n",
       "      <td>Lokhandwala</td>\n",
       "      <td>Andheri</td>\n",
       "      <td>19.130815</td>\n",
       "      <td>72.829270</td>\n",
       "      <td>18000.0</td>\n",
       "      <td>Western Suburbs</td>\n",
       "    </tr>\n",
       "  </tbody>\n",
       "</table>\n",
       "</div>"
      ],
      "text/plain": [
       "               Area         Location   Latitude  Longitude     Rate  \\\n",
       "0            Amboli          Andheri  19.129300  72.843400  18000.0   \n",
       "1  Chakala, Andheri  Western Suburbs  19.111388  72.860833  14750.0   \n",
       "2        D.N. Nagar          Andheri  19.124085  72.831373  18000.0   \n",
       "3    Four Bungalows          Andheri  19.124714  72.827210  18000.0   \n",
       "4       Lokhandwala          Andheri  19.130815  72.829270  18000.0   \n",
       "\n",
       "            Suburb  \n",
       "0  Western Suburbs  \n",
       "1  Western Suburbs  \n",
       "2  Western Suburbs  \n",
       "3  Western Suburbs  \n",
       "4  Western Suburbs  "
      ]
     },
     "execution_count": 6,
     "metadata": {},
     "output_type": "execute_result"
    }
   ],
   "source": [
    "new = mumbai_df[\"Location\"].str.split(\",\", n = 1, expand = True) \n",
    "mumbai_df[\"Location\"] = new[0] \n",
    "mumbai_df[\"Suburb\"]= new[1] \n",
    "\n",
    "for i in range(mumbai_df.shape[0]):\n",
    "    if mumbai_df.iloc[i, 5] is None:\n",
    "        mumbai_df.iloc[i, 5] = mumbai_df.iloc[i, 1]\n",
    "\n",
    "mumbai_df.reset_index(drop=True, inplace=True)\n",
    "mumbai_df.head()"
   ]
  },
  {
   "cell_type": "code",
   "execution_count": 7,
   "metadata": {},
   "outputs": [
    {
     "data": {
      "text/plain": [
       "(67, 6)"
      ]
     },
     "execution_count": 7,
     "metadata": {},
     "output_type": "execute_result"
    }
   ],
   "source": [
    "mumbai_df.shape"
   ]
  },
  {
   "cell_type": "markdown",
   "metadata": {},
   "source": [
    "### Plotting all Areas on Map showing respective Property Rates."
   ]
  },
  {
   "cell_type": "code",
   "execution_count": 8,
   "metadata": {},
   "outputs": [
    {
     "name": "stdout",
     "output_type": "stream",
     "text": [
      "The geograpical coordinate of Mumbai are 19.0549792, 72.8402203.\n"
     ]
    }
   ],
   "source": [
    "address = 'Bandra, Mumbai city, India'\n",
    "\n",
    "geolocator = Nominatim(user_agent=\"mum_explorer\")\n",
    "location = geolocator.geocode(address)\n",
    "latitude = location.latitude\n",
    "longitude = location.longitude\n",
    "print('The geograpical coordinate of Mumbai are {}, {}.'.format(latitude, longitude))"
   ]
  },
  {
   "cell_type": "code",
   "execution_count": 9,
   "metadata": {},
   "outputs": [
    {
     "data": {
      "text/plain": [
       "array([ 8000., 17250., 26500., 35750., 45000.])"
      ]
     },
     "execution_count": 9,
     "metadata": {},
     "output_type": "execute_result"
    }
   ],
   "source": [
    "rate_range = np.linspace(mumbai_df.Rate.min(), mumbai_df.Rate.max(), 5)\n",
    "rate_range"
   ]
  },
  {
   "cell_type": "markdown",
   "metadata": {},
   "source": [
    "**Color code**: \n",
    "\n",
    "|Property Rate|Color|\n",
    "|-------------|------|\n",
    "| High Property Rate | Black|\n",
    "| Medium High Property Rate | Blue|\n",
    "| Medium Low Property Rate | Red|\n",
    "| Low Property Rate | Orange|"
   ]
  },
  {
   "cell_type": "code",
   "execution_count": 10,
   "metadata": {
    "scrolled": true
   },
   "outputs": [
    {
     "data": {
      "text/html": [
       "<div style=\"width:100%;\"><div style=\"position:relative;width:100%;height:0;padding-bottom:60%;\"><span style=\"color:#565656\">Make this Notebook Trusted to load map: File -> Trust Notebook</span><iframe src=\"about:blank\" style=\"position:absolute;width:100%;height:100%;left:0;top:0;border:none !important;\" data-html=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 onload=\"this.contentDocument.open();this.contentDocument.write(atob(this.getAttribute('data-html')));this.contentDocument.close();\" allowfullscreen webkitallowfullscreen mozallowfullscreen></iframe></div></div>"
      ],
      "text/plain": [
       "<folium.folium.Map at 0x19c6620e4f0>"
      ]
     },
     "execution_count": 10,
     "metadata": {},
     "output_type": "execute_result"
    }
   ],
   "source": [
    "map_Areas = folium.Map(location=[latitude, longitude], zoom_start=10)\n",
    "\n",
    "# add markers to map\n",
    "for lat, lng, area, rate in zip(mumbai_df['Latitude'], mumbai_df['Longitude'], mumbai_df['Area'], mumbai_df['Rate']):\n",
    "    col = 'orange' if rate<=rate_range[1] else 'red' if rate<=rate_range[2] else \"blue\" if rate<=rate_range[3] else \"black\"\n",
    "    label = '{}, Rs.{}/sq.ft.'.format(area , int(rate))\n",
    "    label = folium.Popup(label, parse_html=True)\n",
    "    folium.CircleMarker(\n",
    "        [lat, lng],\n",
    "        radius=5,\n",
    "        popup=label,\n",
    "        color= col ,\n",
    "        fill=True,\n",
    "        fill_color= col ,\n",
    "        fill_opacity=0.5,\n",
    "        parse_html=False).add_to(map_Areas)  \n",
    "    \n",
    "map_Areas"
   ]
  },
  {
   "cell_type": "markdown",
   "metadata": {},
   "source": [
    "### Using *FourSquare API* to collect JSON data of all nearby Schools, Colleges & Classes in each of the Areas"
   ]
  },
  {
   "cell_type": "code",
   "execution_count": 11,
   "metadata": {},
   "outputs": [],
   "source": [
    "CLIENT_ID = 'YZ5ZMVZNRQQ3A0K4FFXXXXXXXXXXXXXXXXXXXXXXXXXXXXXX' # your Foursquare ID\n",
    "CLIENT_SECRET = 'YXQXO3UPLP0TKPA3I1XXXXXXXXXXXXXXXXXXXXXXXXXXXXXX' # your Foursquare Secret\n",
    "VERSION = '20180605' # Foursquare API version\n",
    "LIMIT = 200   # Foursquare API limit value"
   ]
  },
  {
   "cell_type": "code",
   "execution_count": 12,
   "metadata": {},
   "outputs": [],
   "source": [
    "# function that extracts the category of the venue\n",
    "def get_category_type(row):\n",
    "    try:\n",
    "        categories_list = row['categories']\n",
    "    except:\n",
    "        categories_list = row['venue.categories']\n",
    "        \n",
    "    if len(categories_list) == 0:\n",
    "        return None\n",
    "    else:\n",
    "        return categories_list[0]['name']"
   ]
  },
  {
   "cell_type": "code",
   "execution_count": 13,
   "metadata": {},
   "outputs": [],
   "source": [
    "def getNearbyVenues(names, latitudes, longitudes, query_list, radius=2000):\n",
    "    \n",
    "    venues_list=[]\n",
    "    for name, lat, lng in zip(names, latitudes, longitudes):\n",
    "        print(name)\n",
    "            \n",
    "        # create the API request URL\n",
    "        for query in query_list:\n",
    "            search_query = query\n",
    "            url = 'https://api.foursquare.com/v2/venues/search?client_id={}&client_secret={}&ll={},{}&v={}&query={}&radius={}&limit={}'.format(\n",
    "                CLIENT_ID, CLIENT_SECRET, lat, lng, VERSION, search_query, radius, LIMIT)\n",
    "            \n",
    "            # make the GET request\n",
    "            results = requests.get(url).json()['response']['venues']\n",
    "        \n",
    "            # return only relevant information for each nearby venue\n",
    "            venues_list.append([(\n",
    "                name, \n",
    "                lat, \n",
    "                lng, \n",
    "                v['name'], \n",
    "                v['location']['lat'], \n",
    "                v['location']['lng']) for v in results])\n",
    "            \n",
    "    nearby_venues = pd.DataFrame([item for venue_list in venues_list for item in venue_list])\n",
    "    nearby_venues.columns = ['Area', \n",
    "                  'Area Latitude', \n",
    "                  'Area Longitude', \n",
    "                  'Venue', \n",
    "                  'Venue Latitude', \n",
    "                  'Venue Longitude']\n",
    "    \n",
    "    return(nearby_venues)"
   ]
  },
  {
   "cell_type": "code",
   "execution_count": 14,
   "metadata": {
    "scrolled": true
   },
   "outputs": [
    {
     "name": "stdout",
     "output_type": "stream",
     "text": [
      "Amboli\n",
      "Chakala, Andheri\n",
      "D.N. Nagar\n",
      "Four Bungalows\n",
      "Lokhandwala\n",
      "Marol\n",
      "Sahar\n",
      "Seven Bungalows\n",
      "Versova\n",
      "Mira Road\n",
      "Bhayandar\n",
      "Bandstand Promenade\n",
      "Kherwadi\n",
      "Pali Hill\n",
      "I.C. Colony\n",
      "Gorai\n",
      "Dahisa\n",
      "Aarey Milk Colony\n",
      "Bangur Nagar\n",
      "Jogeshwari West\n",
      "Juhu\n",
      "Charkop\n",
      "Poisar\n",
      "Mahavir Nagar\n",
      "Thakur village\n",
      "Pali Naka\n",
      "Khar Danda\n",
      "Dindoshi\n",
      "Sunder Nagar\n",
      "Kalina\n",
      "Irla\n",
      "Vile Parle\n",
      "Bhandup\n",
      "Amrut Nagar\n",
      "Asalfa\n",
      "Pant Nagar\n",
      "Kanjurmarg\n",
      "Nehru Nagar\n",
      "Nahur\n",
      "Chandivali\n",
      "Hiranandani Gardens\n",
      "Vikhroli\n",
      "Chembur\n",
      "Mankhurd\n",
      "Altamount Road\n",
      "Breach Candy\n",
      "Churchgate\n",
      "Cuffe Parade\n",
      "Kemps Corner\n",
      "Lower Parel\n",
      "Mahalaxmi\n",
      "Mahim\n",
      "Marine Drive\n",
      "Marine Lines\n",
      "Mumbai Central\n",
      "Nariman Point\n",
      "Prabhadevi\n",
      "Sion\n",
      "Walkeshwar\n",
      "Worli\n",
      "Dagdi Chawl\n",
      "Navy Nagar\n",
      "Hindu colony\n",
      "Ballard Estate\n",
      "Matunga\n",
      "Parel\n",
      "Gowalia Tank\n"
     ]
    }
   ],
   "source": [
    "Schools_Colleges_df = getNearbyVenues(names=mumbai_df['Area'],\n",
    "                                   latitudes=mumbai_df['Latitude'],\n",
    "                                   longitudes=mumbai_df['Longitude'],\n",
    "                                   query_list=['high school', 'college']\n",
    "                                  )"
   ]
  },
  {
   "cell_type": "code",
   "execution_count": 15,
   "metadata": {},
   "outputs": [
    {
     "name": "stdout",
     "output_type": "stream",
     "text": [
      "(4027, 6)\n"
     ]
    },
    {
     "data": {
      "text/html": [
       "<div>\n",
       "<style scoped>\n",
       "    .dataframe tbody tr th:only-of-type {\n",
       "        vertical-align: middle;\n",
       "    }\n",
       "\n",
       "    .dataframe tbody tr th {\n",
       "        vertical-align: top;\n",
       "    }\n",
       "\n",
       "    .dataframe thead th {\n",
       "        text-align: right;\n",
       "    }\n",
       "</style>\n",
       "<table border=\"1\" class=\"dataframe\">\n",
       "  <thead>\n",
       "    <tr style=\"text-align: right;\">\n",
       "      <th></th>\n",
       "      <th>Area</th>\n",
       "      <th>Area Latitude</th>\n",
       "      <th>Area Longitude</th>\n",
       "      <th>Venue</th>\n",
       "      <th>Venue Latitude</th>\n",
       "      <th>Venue Longitude</th>\n",
       "    </tr>\n",
       "  </thead>\n",
       "  <tbody>\n",
       "    <tr>\n",
       "      <th>0</th>\n",
       "      <td>Amboli</td>\n",
       "      <td>19.1293</td>\n",
       "      <td>72.8434</td>\n",
       "      <td>St. Blaise High School</td>\n",
       "      <td>19.127114</td>\n",
       "      <td>72.846202</td>\n",
       "    </tr>\n",
       "    <tr>\n",
       "      <th>1</th>\n",
       "      <td>Amboli</td>\n",
       "      <td>19.1293</td>\n",
       "      <td>72.8434</td>\n",
       "      <td>Faroukh High School</td>\n",
       "      <td>19.131832</td>\n",
       "      <td>72.847237</td>\n",
       "    </tr>\n",
       "    <tr>\n",
       "      <th>2</th>\n",
       "      <td>Amboli</td>\n",
       "      <td>19.1293</td>\n",
       "      <td>72.8434</td>\n",
       "      <td>Bhavan's A. H. Wadia High School</td>\n",
       "      <td>19.126847</td>\n",
       "      <td>72.834842</td>\n",
       "    </tr>\n",
       "    <tr>\n",
       "      <th>3</th>\n",
       "      <td>Amboli</td>\n",
       "      <td>19.1293</td>\n",
       "      <td>72.8434</td>\n",
       "      <td>Swss high school</td>\n",
       "      <td>19.117710</td>\n",
       "      <td>72.841095</td>\n",
       "    </tr>\n",
       "    <tr>\n",
       "      <th>4</th>\n",
       "      <td>Amboli</td>\n",
       "      <td>19.1293</td>\n",
       "      <td>72.8434</td>\n",
       "      <td>Infant Jesus Church &amp; High School</td>\n",
       "      <td>19.131871</td>\n",
       "      <td>72.855746</td>\n",
       "    </tr>\n",
       "  </tbody>\n",
       "</table>\n",
       "</div>"
      ],
      "text/plain": [
       "     Area  Area Latitude  Area Longitude                              Venue  \\\n",
       "0  Amboli        19.1293         72.8434             St. Blaise High School   \n",
       "1  Amboli        19.1293         72.8434                Faroukh High School   \n",
       "2  Amboli        19.1293         72.8434   Bhavan's A. H. Wadia High School   \n",
       "3  Amboli        19.1293         72.8434                   Swss high school   \n",
       "4  Amboli        19.1293         72.8434  Infant Jesus Church & High School   \n",
       "\n",
       "   Venue Latitude  Venue Longitude  \n",
       "0       19.127114        72.846202  \n",
       "1       19.131832        72.847237  \n",
       "2       19.126847        72.834842  \n",
       "3       19.117710        72.841095  \n",
       "4       19.131871        72.855746  "
      ]
     },
     "execution_count": 15,
     "metadata": {},
     "output_type": "execute_result"
    }
   ],
   "source": [
    "print(Schools_Colleges_df.shape)\n",
    "Schools_Colleges_df.head() "
   ]
  },
  {
   "cell_type": "markdown",
   "metadata": {},
   "source": [
    "**Data Cleaning of Schools_Colleges_df**"
   ]
  },
  {
   "cell_type": "code",
   "execution_count": 16,
   "metadata": {},
   "outputs": [],
   "source": [
    "for i in range(Schools_Colleges_df.shape[0]):\n",
    "    name = Schools_Colleges_df.loc[i, 'Venue']  \n",
    "    drop_condition = ((\"school\" not in name) and (\"School\" not in name) and (\"college\" not in name) and (\"College\" not in name))\n",
    "    if drop_condition:\n",
    "        Schools_Colleges_df.drop(i, inplace = True)"
   ]
  },
  {
   "cell_type": "code",
   "execution_count": 17,
   "metadata": {
    "scrolled": true
   },
   "outputs": [
    {
     "name": "stdout",
     "output_type": "stream",
     "text": [
      "(3485, 6)\n"
     ]
    },
    {
     "data": {
      "text/html": [
       "<div>\n",
       "<style scoped>\n",
       "    .dataframe tbody tr th:only-of-type {\n",
       "        vertical-align: middle;\n",
       "    }\n",
       "\n",
       "    .dataframe tbody tr th {\n",
       "        vertical-align: top;\n",
       "    }\n",
       "\n",
       "    .dataframe thead th {\n",
       "        text-align: right;\n",
       "    }\n",
       "</style>\n",
       "<table border=\"1\" class=\"dataframe\">\n",
       "  <thead>\n",
       "    <tr style=\"text-align: right;\">\n",
       "      <th></th>\n",
       "      <th>Area</th>\n",
       "      <th>Area Latitude</th>\n",
       "      <th>Area Longitude</th>\n",
       "      <th>Venue</th>\n",
       "      <th>Venue Latitude</th>\n",
       "      <th>Venue Longitude</th>\n",
       "    </tr>\n",
       "  </thead>\n",
       "  <tbody>\n",
       "    <tr>\n",
       "      <th>0</th>\n",
       "      <td>Amboli</td>\n",
       "      <td>19.1293</td>\n",
       "      <td>72.8434</td>\n",
       "      <td>St. Blaise High School</td>\n",
       "      <td>19.127114</td>\n",
       "      <td>72.846202</td>\n",
       "    </tr>\n",
       "    <tr>\n",
       "      <th>1</th>\n",
       "      <td>Amboli</td>\n",
       "      <td>19.1293</td>\n",
       "      <td>72.8434</td>\n",
       "      <td>Faroukh High School</td>\n",
       "      <td>19.131832</td>\n",
       "      <td>72.847237</td>\n",
       "    </tr>\n",
       "    <tr>\n",
       "      <th>2</th>\n",
       "      <td>Amboli</td>\n",
       "      <td>19.1293</td>\n",
       "      <td>72.8434</td>\n",
       "      <td>Bhavan's A. H. Wadia High School</td>\n",
       "      <td>19.126847</td>\n",
       "      <td>72.834842</td>\n",
       "    </tr>\n",
       "    <tr>\n",
       "      <th>3</th>\n",
       "      <td>Amboli</td>\n",
       "      <td>19.1293</td>\n",
       "      <td>72.8434</td>\n",
       "      <td>Swss high school</td>\n",
       "      <td>19.117710</td>\n",
       "      <td>72.841095</td>\n",
       "    </tr>\n",
       "    <tr>\n",
       "      <th>4</th>\n",
       "      <td>Amboli</td>\n",
       "      <td>19.1293</td>\n",
       "      <td>72.8434</td>\n",
       "      <td>Infant Jesus Church &amp; High School</td>\n",
       "      <td>19.131871</td>\n",
       "      <td>72.855746</td>\n",
       "    </tr>\n",
       "  </tbody>\n",
       "</table>\n",
       "</div>"
      ],
      "text/plain": [
       "     Area  Area Latitude  Area Longitude                              Venue  \\\n",
       "0  Amboli        19.1293         72.8434             St. Blaise High School   \n",
       "1  Amboli        19.1293         72.8434                Faroukh High School   \n",
       "2  Amboli        19.1293         72.8434   Bhavan's A. H. Wadia High School   \n",
       "3  Amboli        19.1293         72.8434                   Swss high school   \n",
       "4  Amboli        19.1293         72.8434  Infant Jesus Church & High School   \n",
       "\n",
       "   Venue Latitude  Venue Longitude  \n",
       "0       19.127114        72.846202  \n",
       "1       19.131832        72.847237  \n",
       "2       19.126847        72.834842  \n",
       "3       19.117710        72.841095  \n",
       "4       19.131871        72.855746  "
      ]
     },
     "execution_count": 17,
     "metadata": {},
     "output_type": "execute_result"
    }
   ],
   "source": [
    "Schools_Colleges_df.reset_index(inplace = True, drop = True)\n",
    "print(Schools_Colleges_df.shape)\n",
    "Schools_Colleges_df.head()"
   ]
  },
  {
   "cell_type": "markdown",
   "metadata": {},
   "source": [
    "**Dropping unwanted venues**(like driving school, medical & engineering college, etc) from \"Schools_Colleges_df\"."
   ]
  },
  {
   "cell_type": "code",
   "execution_count": 18,
   "metadata": {},
   "outputs": [
    {
     "data": {
      "text/plain": [
       "['Driving',\n",
       " 'driving',\n",
       " 'Law',\n",
       " 'law',\n",
       " 'Engineering',\n",
       " 'engineering',\n",
       " 'Architecture',\n",
       " 'architecture',\n",
       " 'Business',\n",
       " 'business']"
      ]
     },
     "execution_count": 18,
     "metadata": {},
     "output_type": "execute_result"
    }
   ],
   "source": [
    "upperlist = ['Driving', 'Law', 'Engineering', 'Architecture', 'Business', 'Medical', 'Management', 'Defense','Preschool',\n",
    "             'Pre-Schools', 'Homeopathic', 'Soccer', 'Motor', 'Training', 'Technology', 'Pharmacy', 'Optometry', \n",
    "             'Bus Stop', 'Blind School', 'Hostel', 'Dental', 'Style', 'Hospital', 'Acting', 'Soccer', 'Pastry', 'Swimming'] \n",
    "lowerlist = [x.lower() for x in upperlist]\n",
    "list = []\n",
    "for upper, lower in zip(upperlist, lowerlist):\n",
    "    list.append(upper)\n",
    "    list.append(lower)\n",
    "list[0:10]"
   ]
  },
  {
   "cell_type": "code",
   "execution_count": 19,
   "metadata": {},
   "outputs": [],
   "source": [
    "for venue_type in list:\n",
    "    for i in range(Schools_Colleges_df.shape[0]):\n",
    "        name = Schools_Colleges_df.loc[i, 'Venue'] \n",
    "        if venue_type in name:\n",
    "            Schools_Colleges_df.drop(i, inplace = True)    \n",
    "    Schools_Colleges_df.reset_index(inplace = True, drop = True)"
   ]
  },
  {
   "cell_type": "code",
   "execution_count": 20,
   "metadata": {},
   "outputs": [
    {
     "name": "stdout",
     "output_type": "stream",
     "text": [
      "(2886, 6)\n"
     ]
    },
    {
     "data": {
      "text/html": [
       "<div>\n",
       "<style scoped>\n",
       "    .dataframe tbody tr th:only-of-type {\n",
       "        vertical-align: middle;\n",
       "    }\n",
       "\n",
       "    .dataframe tbody tr th {\n",
       "        vertical-align: top;\n",
       "    }\n",
       "\n",
       "    .dataframe thead th {\n",
       "        text-align: right;\n",
       "    }\n",
       "</style>\n",
       "<table border=\"1\" class=\"dataframe\">\n",
       "  <thead>\n",
       "    <tr style=\"text-align: right;\">\n",
       "      <th></th>\n",
       "      <th>Area</th>\n",
       "      <th>Area Latitude</th>\n",
       "      <th>Area Longitude</th>\n",
       "      <th>Venue</th>\n",
       "      <th>Venue Latitude</th>\n",
       "      <th>Venue Longitude</th>\n",
       "    </tr>\n",
       "  </thead>\n",
       "  <tbody>\n",
       "    <tr>\n",
       "      <th>0</th>\n",
       "      <td>Amboli</td>\n",
       "      <td>19.1293</td>\n",
       "      <td>72.8434</td>\n",
       "      <td>St. Blaise High School</td>\n",
       "      <td>19.127114</td>\n",
       "      <td>72.846202</td>\n",
       "    </tr>\n",
       "    <tr>\n",
       "      <th>1</th>\n",
       "      <td>Amboli</td>\n",
       "      <td>19.1293</td>\n",
       "      <td>72.8434</td>\n",
       "      <td>Faroukh High School</td>\n",
       "      <td>19.131832</td>\n",
       "      <td>72.847237</td>\n",
       "    </tr>\n",
       "    <tr>\n",
       "      <th>2</th>\n",
       "      <td>Amboli</td>\n",
       "      <td>19.1293</td>\n",
       "      <td>72.8434</td>\n",
       "      <td>Bhavan's A. H. Wadia High School</td>\n",
       "      <td>19.126847</td>\n",
       "      <td>72.834842</td>\n",
       "    </tr>\n",
       "    <tr>\n",
       "      <th>3</th>\n",
       "      <td>Amboli</td>\n",
       "      <td>19.1293</td>\n",
       "      <td>72.8434</td>\n",
       "      <td>Swss high school</td>\n",
       "      <td>19.117710</td>\n",
       "      <td>72.841095</td>\n",
       "    </tr>\n",
       "    <tr>\n",
       "      <th>4</th>\n",
       "      <td>Amboli</td>\n",
       "      <td>19.1293</td>\n",
       "      <td>72.8434</td>\n",
       "      <td>Infant Jesus Church &amp; High School</td>\n",
       "      <td>19.131871</td>\n",
       "      <td>72.855746</td>\n",
       "    </tr>\n",
       "  </tbody>\n",
       "</table>\n",
       "</div>"
      ],
      "text/plain": [
       "     Area  Area Latitude  Area Longitude                              Venue  \\\n",
       "0  Amboli        19.1293         72.8434             St. Blaise High School   \n",
       "1  Amboli        19.1293         72.8434                Faroukh High School   \n",
       "2  Amboli        19.1293         72.8434   Bhavan's A. H. Wadia High School   \n",
       "3  Amboli        19.1293         72.8434                   Swss high school   \n",
       "4  Amboli        19.1293         72.8434  Infant Jesus Church & High School   \n",
       "\n",
       "   Venue Latitude  Venue Longitude  \n",
       "0       19.127114        72.846202  \n",
       "1       19.131832        72.847237  \n",
       "2       19.126847        72.834842  \n",
       "3       19.117710        72.841095  \n",
       "4       19.131871        72.855746  "
      ]
     },
     "execution_count": 20,
     "metadata": {},
     "output_type": "execute_result"
    }
   ],
   "source": [
    "print(Schools_Colleges_df.shape)\n",
    "Schools_Colleges_df.head()"
   ]
  },
  {
   "cell_type": "code",
   "execution_count": 21,
   "metadata": {},
   "outputs": [
    {
     "name": "stdout",
     "output_type": "stream",
     "text": [
      "Amboli\n",
      "Chakala, Andheri\n",
      "D.N. Nagar\n",
      "Four Bungalows\n",
      "Lokhandwala\n",
      "Marol\n",
      "Sahar\n",
      "Seven Bungalows\n",
      "Versova\n",
      "Mira Road\n",
      "Bhayandar\n",
      "Bandstand Promenade\n",
      "Kherwadi\n",
      "Pali Hill\n",
      "I.C. Colony\n",
      "Gorai\n",
      "Dahisa\n",
      "Aarey Milk Colony\n",
      "Bangur Nagar\n",
      "Jogeshwari West\n",
      "Juhu\n",
      "Charkop\n",
      "Poisar\n",
      "Mahavir Nagar\n",
      "Thakur village\n",
      "Pali Naka\n",
      "Khar Danda\n",
      "Dindoshi\n",
      "Sunder Nagar\n",
      "Kalina\n",
      "Irla\n",
      "Vile Parle\n",
      "Bhandup\n",
      "Amrut Nagar\n",
      "Asalfa\n",
      "Pant Nagar\n",
      "Kanjurmarg\n",
      "Nehru Nagar\n",
      "Nahur\n",
      "Chandivali\n",
      "Hiranandani Gardens\n",
      "Vikhroli\n",
      "Chembur\n",
      "Mankhurd\n",
      "Altamount Road\n",
      "Breach Candy\n",
      "Churchgate\n",
      "Cuffe Parade\n",
      "Kemps Corner\n",
      "Lower Parel\n",
      "Mahalaxmi\n",
      "Mahim\n",
      "Marine Drive\n",
      "Marine Lines\n",
      "Mumbai Central\n",
      "Nariman Point\n",
      "Prabhadevi\n",
      "Sion\n",
      "Walkeshwar\n",
      "Worli\n",
      "Dagdi Chawl\n",
      "Navy Nagar\n",
      "Hindu colony\n",
      "Ballard Estate\n",
      "Matunga\n",
      "Parel\n",
      "Gowalia Tank\n"
     ]
    }
   ],
   "source": [
    "Tutorials_Classes_df = getNearbyVenues(names=mumbai_df['Area'],\n",
    "                                   latitudes=mumbai_df['Latitude'],\n",
    "                                   longitudes=mumbai_df['Longitude'],\n",
    "                                   query_list=['tutorials', 'classes']\n",
    "                                  )"
   ]
  },
  {
   "cell_type": "code",
   "execution_count": 22,
   "metadata": {},
   "outputs": [
    {
     "name": "stdout",
     "output_type": "stream",
     "text": [
      "(695, 6)\n"
     ]
    },
    {
     "data": {
      "text/html": [
       "<div>\n",
       "<style scoped>\n",
       "    .dataframe tbody tr th:only-of-type {\n",
       "        vertical-align: middle;\n",
       "    }\n",
       "\n",
       "    .dataframe tbody tr th {\n",
       "        vertical-align: top;\n",
       "    }\n",
       "\n",
       "    .dataframe thead th {\n",
       "        text-align: right;\n",
       "    }\n",
       "</style>\n",
       "<table border=\"1\" class=\"dataframe\">\n",
       "  <thead>\n",
       "    <tr style=\"text-align: right;\">\n",
       "      <th></th>\n",
       "      <th>Area</th>\n",
       "      <th>Area Latitude</th>\n",
       "      <th>Area Longitude</th>\n",
       "      <th>Venue</th>\n",
       "      <th>Venue Latitude</th>\n",
       "      <th>Venue Longitude</th>\n",
       "    </tr>\n",
       "  </thead>\n",
       "  <tbody>\n",
       "    <tr>\n",
       "      <th>0</th>\n",
       "      <td>Amboli</td>\n",
       "      <td>19.1293</td>\n",
       "      <td>72.8434</td>\n",
       "      <td>Harsh Tutorials</td>\n",
       "      <td>19.123740</td>\n",
       "      <td>72.843190</td>\n",
       "    </tr>\n",
       "    <tr>\n",
       "      <th>1</th>\n",
       "      <td>Amboli</td>\n",
       "      <td>19.1293</td>\n",
       "      <td>72.8434</td>\n",
       "      <td>Standard Tutorials</td>\n",
       "      <td>19.119875</td>\n",
       "      <td>72.845735</td>\n",
       "    </tr>\n",
       "    <tr>\n",
       "      <th>2</th>\n",
       "      <td>Amboli</td>\n",
       "      <td>19.1293</td>\n",
       "      <td>72.8434</td>\n",
       "      <td>Mahesh Tutorials</td>\n",
       "      <td>19.119847</td>\n",
       "      <td>72.845947</td>\n",
       "    </tr>\n",
       "    <tr>\n",
       "      <th>3</th>\n",
       "      <td>Amboli</td>\n",
       "      <td>19.1293</td>\n",
       "      <td>72.8434</td>\n",
       "      <td>Mahesh tutorials commerce</td>\n",
       "      <td>19.118845</td>\n",
       "      <td>72.845268</td>\n",
       "    </tr>\n",
       "    <tr>\n",
       "      <th>4</th>\n",
       "      <td>Amboli</td>\n",
       "      <td>19.1293</td>\n",
       "      <td>72.8434</td>\n",
       "      <td>Prof. Manish Nadkarni's Tutorials</td>\n",
       "      <td>19.116002</td>\n",
       "      <td>72.831820</td>\n",
       "    </tr>\n",
       "  </tbody>\n",
       "</table>\n",
       "</div>"
      ],
      "text/plain": [
       "     Area  Area Latitude  Area Longitude                              Venue  \\\n",
       "0  Amboli        19.1293         72.8434                    Harsh Tutorials   \n",
       "1  Amboli        19.1293         72.8434                 Standard Tutorials   \n",
       "2  Amboli        19.1293         72.8434                   Mahesh Tutorials   \n",
       "3  Amboli        19.1293         72.8434          Mahesh tutorials commerce   \n",
       "4  Amboli        19.1293         72.8434  Prof. Manish Nadkarni's Tutorials   \n",
       "\n",
       "   Venue Latitude  Venue Longitude  \n",
       "0       19.123740        72.843190  \n",
       "1       19.119875        72.845735  \n",
       "2       19.119847        72.845947  \n",
       "3       19.118845        72.845268  \n",
       "4       19.116002        72.831820  "
      ]
     },
     "execution_count": 22,
     "metadata": {},
     "output_type": "execute_result"
    }
   ],
   "source": [
    "print(Tutorials_Classes_df.shape)\n",
    "Tutorials_Classes_df.head() "
   ]
  },
  {
   "cell_type": "code",
   "execution_count": 23,
   "metadata": {},
   "outputs": [
    {
     "data": {
      "text/plain": [
       "(67, 64, 62)"
      ]
     },
     "execution_count": 23,
     "metadata": {},
     "output_type": "execute_result"
    }
   ],
   "source": [
    "len(mumbai_df.Area.unique()), len(Schools_Colleges_df.Area.unique()), len(Tutorials_Classes_df.Area.unique())"
   ]
  },
  {
   "cell_type": "markdown",
   "metadata": {},
   "source": [
    "**No. of Schools_Colleges in each Area**"
   ]
  },
  {
   "cell_type": "code",
   "execution_count": 24,
   "metadata": {
    "scrolled": true
   },
   "outputs": [
    {
     "data": {
      "text/html": [
       "<div>\n",
       "<style scoped>\n",
       "    .dataframe tbody tr th:only-of-type {\n",
       "        vertical-align: middle;\n",
       "    }\n",
       "\n",
       "    .dataframe tbody tr th {\n",
       "        vertical-align: top;\n",
       "    }\n",
       "\n",
       "    .dataframe thead th {\n",
       "        text-align: right;\n",
       "    }\n",
       "</style>\n",
       "<table border=\"1\" class=\"dataframe\">\n",
       "  <thead>\n",
       "    <tr style=\"text-align: right;\">\n",
       "      <th></th>\n",
       "      <th>Area</th>\n",
       "      <th>Venue</th>\n",
       "    </tr>\n",
       "  </thead>\n",
       "  <tbody>\n",
       "    <tr>\n",
       "      <th>0</th>\n",
       "      <td>Aarey Milk Colony</td>\n",
       "      <td>10</td>\n",
       "    </tr>\n",
       "    <tr>\n",
       "      <th>1</th>\n",
       "      <td>Altamount Road</td>\n",
       "      <td>63</td>\n",
       "    </tr>\n",
       "    <tr>\n",
       "      <th>2</th>\n",
       "      <td>Amboli</td>\n",
       "      <td>59</td>\n",
       "    </tr>\n",
       "    <tr>\n",
       "      <th>3</th>\n",
       "      <td>Amrut Nagar</td>\n",
       "      <td>38</td>\n",
       "    </tr>\n",
       "    <tr>\n",
       "      <th>4</th>\n",
       "      <td>Asalfa</td>\n",
       "      <td>44</td>\n",
       "    </tr>\n",
       "  </tbody>\n",
       "</table>\n",
       "</div>"
      ],
      "text/plain": [
       "                Area  Venue\n",
       "0  Aarey Milk Colony     10\n",
       "1     Altamount Road     63\n",
       "2             Amboli     59\n",
       "3        Amrut Nagar     38\n",
       "4             Asalfa     44"
      ]
     },
     "execution_count": 24,
     "metadata": {},
     "output_type": "execute_result"
    }
   ],
   "source": [
    "Schools_Colleges_group = Schools_Colleges_df[['Area','Venue']].groupby(\"Area\").count()\n",
    "Schools_Colleges_group.reset_index(inplace = True, drop = False)\n",
    "Schools_Colleges_group.head()"
   ]
  },
  {
   "cell_type": "markdown",
   "metadata": {},
   "source": [
    " "
   ]
  },
  {
   "cell_type": "markdown",
   "metadata": {},
   "source": [
    "**No. of Tutorials_Classes in each Area**"
   ]
  },
  {
   "cell_type": "code",
   "execution_count": 25,
   "metadata": {
    "scrolled": false
   },
   "outputs": [
    {
     "data": {
      "text/html": [
       "<div>\n",
       "<style scoped>\n",
       "    .dataframe tbody tr th:only-of-type {\n",
       "        vertical-align: middle;\n",
       "    }\n",
       "\n",
       "    .dataframe tbody tr th {\n",
       "        vertical-align: top;\n",
       "    }\n",
       "\n",
       "    .dataframe thead th {\n",
       "        text-align: right;\n",
       "    }\n",
       "</style>\n",
       "<table border=\"1\" class=\"dataframe\">\n",
       "  <thead>\n",
       "    <tr style=\"text-align: right;\">\n",
       "      <th></th>\n",
       "      <th>Area</th>\n",
       "      <th>Venue</th>\n",
       "    </tr>\n",
       "  </thead>\n",
       "  <tbody>\n",
       "    <tr>\n",
       "      <th>0</th>\n",
       "      <td>Altamount Road</td>\n",
       "      <td>9</td>\n",
       "    </tr>\n",
       "    <tr>\n",
       "      <th>1</th>\n",
       "      <td>Amboli</td>\n",
       "      <td>21</td>\n",
       "    </tr>\n",
       "    <tr>\n",
       "      <th>2</th>\n",
       "      <td>Amrut Nagar</td>\n",
       "      <td>8</td>\n",
       "    </tr>\n",
       "    <tr>\n",
       "      <th>3</th>\n",
       "      <td>Asalfa</td>\n",
       "      <td>18</td>\n",
       "    </tr>\n",
       "    <tr>\n",
       "      <th>4</th>\n",
       "      <td>Ballard Estate</td>\n",
       "      <td>4</td>\n",
       "    </tr>\n",
       "  </tbody>\n",
       "</table>\n",
       "</div>"
      ],
      "text/plain": [
       "             Area  Venue\n",
       "0  Altamount Road      9\n",
       "1          Amboli     21\n",
       "2     Amrut Nagar      8\n",
       "3          Asalfa     18\n",
       "4  Ballard Estate      4"
      ]
     },
     "execution_count": 25,
     "metadata": {},
     "output_type": "execute_result"
    }
   ],
   "source": [
    "Tutorials_Classes_group = Tutorials_Classes_df[['Area','Venue']].groupby(\"Area\").count()\n",
    "Tutorials_Classes_group.reset_index(inplace = True, drop = False)\n",
    "Tutorials_Classes_group.head()"
   ]
  },
  {
   "cell_type": "markdown",
   "metadata": {},
   "source": [
    " "
   ]
  },
  {
   "cell_type": "code",
   "execution_count": 26,
   "metadata": {},
   "outputs": [
    {
     "data": {
      "text/html": [
       "<div>\n",
       "<style scoped>\n",
       "    .dataframe tbody tr th:only-of-type {\n",
       "        vertical-align: middle;\n",
       "    }\n",
       "\n",
       "    .dataframe tbody tr th {\n",
       "        vertical-align: top;\n",
       "    }\n",
       "\n",
       "    .dataframe thead th {\n",
       "        text-align: right;\n",
       "    }\n",
       "</style>\n",
       "<table border=\"1\" class=\"dataframe\">\n",
       "  <thead>\n",
       "    <tr style=\"text-align: right;\">\n",
       "      <th></th>\n",
       "      <th>Area</th>\n",
       "      <th>Latitude</th>\n",
       "      <th>Longitude</th>\n",
       "      <th>Rate</th>\n",
       "    </tr>\n",
       "  </thead>\n",
       "  <tbody>\n",
       "    <tr>\n",
       "      <th>0</th>\n",
       "      <td>Amboli</td>\n",
       "      <td>19.129300</td>\n",
       "      <td>72.843400</td>\n",
       "      <td>18000.0</td>\n",
       "    </tr>\n",
       "    <tr>\n",
       "      <th>1</th>\n",
       "      <td>Chakala, Andheri</td>\n",
       "      <td>19.111388</td>\n",
       "      <td>72.860833</td>\n",
       "      <td>14750.0</td>\n",
       "    </tr>\n",
       "    <tr>\n",
       "      <th>2</th>\n",
       "      <td>D.N. Nagar</td>\n",
       "      <td>19.124085</td>\n",
       "      <td>72.831373</td>\n",
       "      <td>18000.0</td>\n",
       "    </tr>\n",
       "    <tr>\n",
       "      <th>3</th>\n",
       "      <td>Four Bungalows</td>\n",
       "      <td>19.124714</td>\n",
       "      <td>72.827210</td>\n",
       "      <td>18000.0</td>\n",
       "    </tr>\n",
       "    <tr>\n",
       "      <th>4</th>\n",
       "      <td>Lokhandwala</td>\n",
       "      <td>19.130815</td>\n",
       "      <td>72.829270</td>\n",
       "      <td>18000.0</td>\n",
       "    </tr>\n",
       "  </tbody>\n",
       "</table>\n",
       "</div>"
      ],
      "text/plain": [
       "               Area   Latitude  Longitude     Rate\n",
       "0            Amboli  19.129300  72.843400  18000.0\n",
       "1  Chakala, Andheri  19.111388  72.860833  14750.0\n",
       "2        D.N. Nagar  19.124085  72.831373  18000.0\n",
       "3    Four Bungalows  19.124714  72.827210  18000.0\n",
       "4       Lokhandwala  19.130815  72.829270  18000.0"
      ]
     },
     "execution_count": 26,
     "metadata": {},
     "output_type": "execute_result"
    }
   ],
   "source": [
    "mumbai_df[['Area','Latitude','Longitude','Rate']].head()"
   ]
  },
  {
   "cell_type": "code",
   "execution_count": 27,
   "metadata": {},
   "outputs": [],
   "source": [
    "merge_temp = pd.merge(mumbai_df[['Area','Latitude','Longitude','Rate']], Schools_Colleges_group, on = \"Area\", how = \"outer\")\n",
    "merge_temp.rename(columns = {'Venue' : 'Schools_Colleges'}, inplace = True)\n",
    "Area_df = merge_temp.merge(Tutorials_Classes_group, on = \"Area\", how = \"outer\")\n",
    "Area_df.rename(columns = {'Venue' : 'Tutorials_Classes'}, inplace = True)"
   ]
  },
  {
   "cell_type": "code",
   "execution_count": 28,
   "metadata": {
    "scrolled": true
   },
   "outputs": [
    {
     "name": "stdout",
     "output_type": "stream",
     "text": [
      "(67, 6)\n"
     ]
    },
    {
     "data": {
      "text/html": [
       "<div>\n",
       "<style scoped>\n",
       "    .dataframe tbody tr th:only-of-type {\n",
       "        vertical-align: middle;\n",
       "    }\n",
       "\n",
       "    .dataframe tbody tr th {\n",
       "        vertical-align: top;\n",
       "    }\n",
       "\n",
       "    .dataframe thead th {\n",
       "        text-align: right;\n",
       "    }\n",
       "</style>\n",
       "<table border=\"1\" class=\"dataframe\">\n",
       "  <thead>\n",
       "    <tr style=\"text-align: right;\">\n",
       "      <th></th>\n",
       "      <th>Area</th>\n",
       "      <th>Latitude</th>\n",
       "      <th>Longitude</th>\n",
       "      <th>Rate</th>\n",
       "      <th>Schools_Colleges</th>\n",
       "      <th>Tutorials_Classes</th>\n",
       "    </tr>\n",
       "  </thead>\n",
       "  <tbody>\n",
       "    <tr>\n",
       "      <th>0</th>\n",
       "      <td>Amboli</td>\n",
       "      <td>19.129300</td>\n",
       "      <td>72.843400</td>\n",
       "      <td>18000.0</td>\n",
       "      <td>59.0</td>\n",
       "      <td>21.0</td>\n",
       "    </tr>\n",
       "    <tr>\n",
       "      <th>1</th>\n",
       "      <td>Chakala, Andheri</td>\n",
       "      <td>19.111388</td>\n",
       "      <td>72.860833</td>\n",
       "      <td>14750.0</td>\n",
       "      <td>49.0</td>\n",
       "      <td>27.0</td>\n",
       "    </tr>\n",
       "    <tr>\n",
       "      <th>2</th>\n",
       "      <td>D.N. Nagar</td>\n",
       "      <td>19.124085</td>\n",
       "      <td>72.831373</td>\n",
       "      <td>18000.0</td>\n",
       "      <td>58.0</td>\n",
       "      <td>22.0</td>\n",
       "    </tr>\n",
       "    <tr>\n",
       "      <th>3</th>\n",
       "      <td>Four Bungalows</td>\n",
       "      <td>19.124714</td>\n",
       "      <td>72.827210</td>\n",
       "      <td>18000.0</td>\n",
       "      <td>58.0</td>\n",
       "      <td>22.0</td>\n",
       "    </tr>\n",
       "    <tr>\n",
       "      <th>4</th>\n",
       "      <td>Lokhandwala</td>\n",
       "      <td>19.130815</td>\n",
       "      <td>72.829270</td>\n",
       "      <td>18000.0</td>\n",
       "      <td>59.0</td>\n",
       "      <td>14.0</td>\n",
       "    </tr>\n",
       "  </tbody>\n",
       "</table>\n",
       "</div>"
      ],
      "text/plain": [
       "               Area   Latitude  Longitude     Rate  Schools_Colleges  \\\n",
       "0            Amboli  19.129300  72.843400  18000.0              59.0   \n",
       "1  Chakala, Andheri  19.111388  72.860833  14750.0              49.0   \n",
       "2        D.N. Nagar  19.124085  72.831373  18000.0              58.0   \n",
       "3    Four Bungalows  19.124714  72.827210  18000.0              58.0   \n",
       "4       Lokhandwala  19.130815  72.829270  18000.0              59.0   \n",
       "\n",
       "   Tutorials_Classes  \n",
       "0               21.0  \n",
       "1               27.0  \n",
       "2               22.0  \n",
       "3               22.0  \n",
       "4               14.0  "
      ]
     },
     "execution_count": 28,
     "metadata": {},
     "output_type": "execute_result"
    }
   ],
   "source": [
    "print(Area_df.shape)\n",
    "Area_df = Area_df.fillna(0)\n",
    "Area_df.head()"
   ]
  },
  {
   "cell_type": "markdown",
   "metadata": {},
   "source": [
    "* Calculate **Business Opportunity Index** for each Area. A good Business Opportunity Index means there are more Schools/Colleges and less Classes in a Area. \n",
    "> Business Opportunity Index = (Total no. of Schools & Colleges) / [ (Total no. of Classes & Tutorials) + 1 ]"
   ]
  },
  {
   "cell_type": "code",
   "execution_count": 29,
   "metadata": {},
   "outputs": [
    {
     "data": {
      "text/html": [
       "<div>\n",
       "<style scoped>\n",
       "    .dataframe tbody tr th:only-of-type {\n",
       "        vertical-align: middle;\n",
       "    }\n",
       "\n",
       "    .dataframe tbody tr th {\n",
       "        vertical-align: top;\n",
       "    }\n",
       "\n",
       "    .dataframe thead th {\n",
       "        text-align: right;\n",
       "    }\n",
       "</style>\n",
       "<table border=\"1\" class=\"dataframe\">\n",
       "  <thead>\n",
       "    <tr style=\"text-align: right;\">\n",
       "      <th></th>\n",
       "      <th>Area</th>\n",
       "      <th>Latitude</th>\n",
       "      <th>Longitude</th>\n",
       "      <th>Rate</th>\n",
       "      <th>Schools_Colleges</th>\n",
       "      <th>Tutorials_Classes</th>\n",
       "      <th>Startup Opportunity Index</th>\n",
       "    </tr>\n",
       "  </thead>\n",
       "  <tbody>\n",
       "    <tr>\n",
       "      <th>0</th>\n",
       "      <td>Parel</td>\n",
       "      <td>18.99</td>\n",
       "      <td>72.840</td>\n",
       "      <td>18000.0</td>\n",
       "      <td>40.0</td>\n",
       "      <td>2.0</td>\n",
       "      <td>13.333</td>\n",
       "    </tr>\n",
       "    <tr>\n",
       "      <th>1</th>\n",
       "      <td>Kanjurmarg</td>\n",
       "      <td>19.13</td>\n",
       "      <td>72.940</td>\n",
       "      <td>10550.0</td>\n",
       "      <td>13.0</td>\n",
       "      <td>0.0</td>\n",
       "      <td>13.000</td>\n",
       "    </tr>\n",
       "    <tr>\n",
       "      <th>2</th>\n",
       "      <td>Worli</td>\n",
       "      <td>19.00</td>\n",
       "      <td>72.815</td>\n",
       "      <td>27500.0</td>\n",
       "      <td>25.0</td>\n",
       "      <td>1.0</td>\n",
       "      <td>12.500</td>\n",
       "    </tr>\n",
       "    <tr>\n",
       "      <th>3</th>\n",
       "      <td>Churchgate</td>\n",
       "      <td>18.93</td>\n",
       "      <td>72.820</td>\n",
       "      <td>28500.0</td>\n",
       "      <td>61.0</td>\n",
       "      <td>4.0</td>\n",
       "      <td>12.200</td>\n",
       "    </tr>\n",
       "    <tr>\n",
       "      <th>4</th>\n",
       "      <td>Ballard Estate</td>\n",
       "      <td>18.95</td>\n",
       "      <td>72.840</td>\n",
       "      <td>29000.0</td>\n",
       "      <td>60.0</td>\n",
       "      <td>4.0</td>\n",
       "      <td>12.000</td>\n",
       "    </tr>\n",
       "  </tbody>\n",
       "</table>\n",
       "</div>"
      ],
      "text/plain": [
       "             Area  Latitude  Longitude     Rate  Schools_Colleges  \\\n",
       "0           Parel     18.99     72.840  18000.0              40.0   \n",
       "1      Kanjurmarg     19.13     72.940  10550.0              13.0   \n",
       "2           Worli     19.00     72.815  27500.0              25.0   \n",
       "3      Churchgate     18.93     72.820  28500.0              61.0   \n",
       "4  Ballard Estate     18.95     72.840  29000.0              60.0   \n",
       "\n",
       "   Tutorials_Classes  Startup Opportunity Index  \n",
       "0                2.0                     13.333  \n",
       "1                0.0                     13.000  \n",
       "2                1.0                     12.500  \n",
       "3                4.0                     12.200  \n",
       "4                4.0                     12.000  "
      ]
     },
     "execution_count": 29,
     "metadata": {},
     "output_type": "execute_result"
    }
   ],
   "source": [
    "Area_df[\"Startup Opportunity Index\"] = Area_df[\"Schools_Colleges\"]/(Area_df[\"Tutorials_Classes\"] + 1)\n",
    "Area_df = Area_df.round({\"Startup Opportunity Index\":3}) \n",
    "Area_df.sort_values(by = 'Startup Opportunity Index', ascending=False, inplace = True) \n",
    "Area_df.reset_index(inplace = True, drop = True)\n",
    "Area_df.head()"
   ]
  },
  {
   "cell_type": "markdown",
   "metadata": {},
   "source": [
    " "
   ]
  },
  {
   "cell_type": "markdown",
   "metadata": {},
   "source": [
    "# K-Means Clustering"
   ]
  },
  {
   "cell_type": "markdown",
   "metadata": {},
   "source": [
    "### Pre-processing"
   ]
  },
  {
   "cell_type": "code",
   "execution_count": 30,
   "metadata": {
    "scrolled": false
   },
   "outputs": [
    {
     "data": {
      "text/html": [
       "<div>\n",
       "<style scoped>\n",
       "    .dataframe tbody tr th:only-of-type {\n",
       "        vertical-align: middle;\n",
       "    }\n",
       "\n",
       "    .dataframe tbody tr th {\n",
       "        vertical-align: top;\n",
       "    }\n",
       "\n",
       "    .dataframe thead th {\n",
       "        text-align: right;\n",
       "    }\n",
       "</style>\n",
       "<table border=\"1\" class=\"dataframe\">\n",
       "  <thead>\n",
       "    <tr style=\"text-align: right;\">\n",
       "      <th></th>\n",
       "      <th>Rate</th>\n",
       "      <th>Startup Opportunity Index</th>\n",
       "    </tr>\n",
       "  </thead>\n",
       "  <tbody>\n",
       "    <tr>\n",
       "      <th>0</th>\n",
       "      <td>18000.0</td>\n",
       "      <td>13.333</td>\n",
       "    </tr>\n",
       "    <tr>\n",
       "      <th>1</th>\n",
       "      <td>10550.0</td>\n",
       "      <td>13.000</td>\n",
       "    </tr>\n",
       "    <tr>\n",
       "      <th>2</th>\n",
       "      <td>27500.0</td>\n",
       "      <td>12.500</td>\n",
       "    </tr>\n",
       "    <tr>\n",
       "      <th>3</th>\n",
       "      <td>28500.0</td>\n",
       "      <td>12.200</td>\n",
       "    </tr>\n",
       "    <tr>\n",
       "      <th>4</th>\n",
       "      <td>29000.0</td>\n",
       "      <td>12.000</td>\n",
       "    </tr>\n",
       "  </tbody>\n",
       "</table>\n",
       "</div>"
      ],
      "text/plain": [
       "      Rate  Startup Opportunity Index\n",
       "0  18000.0                     13.333\n",
       "1  10550.0                     13.000\n",
       "2  27500.0                     12.500\n",
       "3  28500.0                     12.200\n",
       "4  29000.0                     12.000"
      ]
     },
     "execution_count": 30,
     "metadata": {},
     "output_type": "execute_result"
    }
   ],
   "source": [
    "clustering_data = Area_df[['Rate', 'Startup Opportunity Index']]\n",
    "clustering_data.head()"
   ]
  },
  {
   "cell_type": "markdown",
   "metadata": {},
   "source": [
    "Now let's normalize the dataset. But why do we need normalization in the first place? Normalization is a statistical method that helps mathematical-based algorithms interpret features with different magnitudes and distributions equally. We use **StandardScaler()** to normalize our dataset."
   ]
  },
  {
   "cell_type": "code",
   "execution_count": 31,
   "metadata": {
    "scrolled": true
   },
   "outputs": [
    {
     "data": {
      "text/plain": [
       "array([[-0.30779519,  2.43127857],\n",
       "       [-1.12219207,  2.33122442],\n",
       "       [ 0.73069747,  2.18099297],\n",
       "       [ 0.84001249,  2.09085409],\n",
       "       [ 0.89467   ,  2.03076151]])"
      ]
     },
     "execution_count": 31,
     "metadata": {},
     "output_type": "execute_result"
    }
   ],
   "source": [
    "from sklearn.preprocessing import StandardScaler\n",
    "\n",
    "clustering_data = StandardScaler().fit_transform(clustering_data)\n",
    "clustering_data[0:5]"
   ]
  },
  {
   "cell_type": "markdown",
   "metadata": {},
   "source": [
    "We will be choosing optimum number of clusters by using **Elbow method**."
   ]
  },
  {
   "cell_type": "code",
   "execution_count": 32,
   "metadata": {
    "scrolled": true
   },
   "outputs": [
    {
     "data": {
      "image/png": "[encoded data removed]",
      "text/plain": [
       "<Figure size 720x360 with 1 Axes>"
      ]
     },
     "metadata": {
      "needs_background": "light"
     },
     "output_type": "display_data"
    }
   ],
   "source": [
    "import matplotlib.pyplot as plt\n",
    "#Area_cluster = mum_bai_grouped.drop('Neighborhood', 1)\n",
    "distortions = []\n",
    "K = range(1,15)\n",
    "for k in K:\n",
    "    kmeanModel = KMeans(init = \"k-means++\", n_clusters=k)\n",
    "    kmeanModel.fit(clustering_data)\n",
    "    distortions.append(kmeanModel.inertia_)\n",
    "plt.figure(figsize=(10,5))\n",
    "plt.plot(K, distortions, 'bx-')\n",
    "plt.xlabel('k')\n",
    "plt.ylabel('Distortion')\n",
    "plt.title('The Elbow Method showing the optimal k')\n",
    "plt.show()"
   ]
  },
  {
   "cell_type": "markdown",
   "metadata": {},
   "source": [
    "The Elbow Method suggests 2 as the optimum number of clusters, as the distortion in the data drops suddenly at 2 clusters and very slowly decreases from there. But considering insights from the exploratory data analysis, we will proceed with grouping the data into 3 clusters, as it will be easier to gather insights that way."
   ]
  },
  {
   "cell_type": "markdown",
   "metadata": {},
   "source": [
    "### Modeling"
   ]
  },
  {
   "cell_type": "code",
   "execution_count": 33,
   "metadata": {},
   "outputs": [
    {
     "data": {
      "text/plain": [
       "array([2, 2, 2, 2, 2, 2, 2, 2, 1, 1, 2, 2, 2, 1, 2, 1, 1, 1, 1, 0, 1, 0,\n",
       "       1, 1, 1, 0, 0, 0, 0, 0, 0, 0, 0, 0, 0, 0, 0, 0, 0, 0, 1, 1, 0, 0,\n",
       "       0, 0, 1, 0, 0, 0, 0, 0, 0, 0, 0, 0, 0, 0, 0, 0, 1, 0, 0, 0, 0, 0,\n",
       "       0])"
      ]
     },
     "execution_count": 33,
     "metadata": {},
     "output_type": "execute_result"
    }
   ],
   "source": [
    "kclusters = 3\n",
    "kmeanModel = KMeans(init=\"k-means++\", n_clusters=kclusters, random_state=0)\n",
    "kmeanModel.fit(clustering_data)\n",
    "cluster_labels = kmeanModel.labels_      \n",
    "cluster_labels                   # check cluster labels generated for each row in the datapoint"
   ]
  },
  {
   "cell_type": "markdown",
   "metadata": {},
   "source": [
    "### Cluster insights"
   ]
  },
  {
   "cell_type": "code",
   "execution_count": 34,
   "metadata": {
    "scrolled": true
   },
   "outputs": [
    {
     "data": {
      "text/html": [
       "<div>\n",
       "<style scoped>\n",
       "    .dataframe tbody tr th:only-of-type {\n",
       "        vertical-align: middle;\n",
       "    }\n",
       "\n",
       "    .dataframe tbody tr th {\n",
       "        vertical-align: top;\n",
       "    }\n",
       "\n",
       "    .dataframe thead th {\n",
       "        text-align: right;\n",
       "    }\n",
       "</style>\n",
       "<table border=\"1\" class=\"dataframe\">\n",
       "  <thead>\n",
       "    <tr style=\"text-align: right;\">\n",
       "      <th></th>\n",
       "      <th>Area</th>\n",
       "      <th>Latitude</th>\n",
       "      <th>Longitude</th>\n",
       "      <th>Rate</th>\n",
       "      <th>Schools_Colleges</th>\n",
       "      <th>Tutorials_Classes</th>\n",
       "      <th>Startup Opportunity Index</th>\n",
       "      <th>Cluster</th>\n",
       "    </tr>\n",
       "  </thead>\n",
       "  <tbody>\n",
       "    <tr>\n",
       "      <th>0</th>\n",
       "      <td>Parel</td>\n",
       "      <td>18.99</td>\n",
       "      <td>72.840</td>\n",
       "      <td>18000.0</td>\n",
       "      <td>40.0</td>\n",
       "      <td>2.0</td>\n",
       "      <td>13.333</td>\n",
       "      <td>2</td>\n",
       "    </tr>\n",
       "    <tr>\n",
       "      <th>1</th>\n",
       "      <td>Kanjurmarg</td>\n",
       "      <td>19.13</td>\n",
       "      <td>72.940</td>\n",
       "      <td>10550.0</td>\n",
       "      <td>13.0</td>\n",
       "      <td>0.0</td>\n",
       "      <td>13.000</td>\n",
       "      <td>2</td>\n",
       "    </tr>\n",
       "    <tr>\n",
       "      <th>2</th>\n",
       "      <td>Worli</td>\n",
       "      <td>19.00</td>\n",
       "      <td>72.815</td>\n",
       "      <td>27500.0</td>\n",
       "      <td>25.0</td>\n",
       "      <td>1.0</td>\n",
       "      <td>12.500</td>\n",
       "      <td>2</td>\n",
       "    </tr>\n",
       "    <tr>\n",
       "      <th>3</th>\n",
       "      <td>Churchgate</td>\n",
       "      <td>18.93</td>\n",
       "      <td>72.820</td>\n",
       "      <td>28500.0</td>\n",
       "      <td>61.0</td>\n",
       "      <td>4.0</td>\n",
       "      <td>12.200</td>\n",
       "      <td>2</td>\n",
       "    </tr>\n",
       "    <tr>\n",
       "      <th>4</th>\n",
       "      <td>Ballard Estate</td>\n",
       "      <td>18.95</td>\n",
       "      <td>72.840</td>\n",
       "      <td>29000.0</td>\n",
       "      <td>60.0</td>\n",
       "      <td>4.0</td>\n",
       "      <td>12.000</td>\n",
       "      <td>2</td>\n",
       "    </tr>\n",
       "  </tbody>\n",
       "</table>\n",
       "</div>"
      ],
      "text/plain": [
       "             Area  Latitude  Longitude     Rate  Schools_Colleges  \\\n",
       "0           Parel     18.99     72.840  18000.0              40.0   \n",
       "1      Kanjurmarg     19.13     72.940  10550.0              13.0   \n",
       "2           Worli     19.00     72.815  27500.0              25.0   \n",
       "3      Churchgate     18.93     72.820  28500.0              61.0   \n",
       "4  Ballard Estate     18.95     72.840  29000.0              60.0   \n",
       "\n",
       "   Tutorials_Classes  Startup Opportunity Index  Cluster  \n",
       "0                2.0                     13.333        2  \n",
       "1                0.0                     13.000        2  \n",
       "2                1.0                     12.500        2  \n",
       "3                4.0                     12.200        2  \n",
       "4                4.0                     12.000        2  "
      ]
     },
     "execution_count": 34,
     "metadata": {},
     "output_type": "execute_result"
    }
   ],
   "source": [
    "Area_df['Cluster'] = cluster_labels\n",
    "Area_df.head()"
   ]
  },
  {
   "cell_type": "code",
   "execution_count": 35,
   "metadata": {},
   "outputs": [
    {
     "data": {
      "text/html": [
       "<div style=\"width:100%;\"><div style=\"position:relative;width:100%;height:0;padding-bottom:60%;\"><span style=\"color:#565656\">Make this Notebook Trusted to load map: File -> Trust Notebook</span><iframe src=\"about:blank\" style=\"position:absolute;width:100%;height:100%;left:0;top:0;border:none !important;\" data-html=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 onload=\"this.contentDocument.open();this.contentDocument.write(atob(this.getAttribute('data-html')));this.contentDocument.close();\" allowfullscreen webkitallowfullscreen mozallowfullscreen></iframe></div></div>"
      ],
      "text/plain": [
       "<folium.folium.Map at 0x19c67b3f190>"
      ]
     },
     "execution_count": 35,
     "metadata": {},
     "output_type": "execute_result"
    }
   ],
   "source": [
    "Clusters_map = folium.Map(location=[latitude, longitude], zoom_start=11)\n",
    "\n",
    "# add Selected_Areas to map\n",
    "for lat, lng, area, cluster in zip(Area_df['Latitude'], Area_df['Longitude'], Area_df['Area'],\n",
    "                                           Area_df['Cluster']):\n",
    "    col = 'orange' if cluster==0 else 'red' if cluster==1 else \"blue\"\n",
    "    label = '{}, Cluster {}'.format(area ,cluster)\n",
    "    label = folium.Popup(label, parse_html=True)\n",
    "    folium.CircleMarker(\n",
    "        [lat, lng],\n",
    "        radius=5,\n",
    "        popup=label,\n",
    "        color= col ,\n",
    "        fill=True,\n",
    "        fill_color= col ,\n",
    "        fill_opacity=0.7,\n",
    "        parse_html=False).add_to(Clusters_map)      \n",
    "Clusters_map"
   ]
  },
  {
   "cell_type": "code",
   "execution_count": 36,
   "metadata": {
    "scrolled": true
   },
   "outputs": [
    {
     "data": {
      "text/html": [
       "<div>\n",
       "<style scoped>\n",
       "    .dataframe tbody tr th:only-of-type {\n",
       "        vertical-align: middle;\n",
       "    }\n",
       "\n",
       "    .dataframe tbody tr th {\n",
       "        vertical-align: top;\n",
       "    }\n",
       "\n",
       "    .dataframe thead th {\n",
       "        text-align: right;\n",
       "    }\n",
       "</style>\n",
       "<table border=\"1\" class=\"dataframe\">\n",
       "  <thead>\n",
       "    <tr style=\"text-align: right;\">\n",
       "      <th></th>\n",
       "      <th>No. of Areas</th>\n",
       "      <th>Average Property Rate</th>\n",
       "      <th>Average No. of Schools &amp; Colleges</th>\n",
       "      <th>Average No. of Tutorials &amp; Classes</th>\n",
       "      <th>Startup Opportunity Index</th>\n",
       "    </tr>\n",
       "    <tr>\n",
       "      <th>Cluster</th>\n",
       "      <th></th>\n",
       "      <th></th>\n",
       "      <th></th>\n",
       "      <th></th>\n",
       "      <th></th>\n",
       "    </tr>\n",
       "  </thead>\n",
       "  <tbody>\n",
       "    <tr>\n",
       "      <th>0</th>\n",
       "      <td>40</td>\n",
       "      <td>15616.250000</td>\n",
       "      <td>42.625000</td>\n",
       "      <td>13.575000</td>\n",
       "      <td>3.267425</td>\n",
       "    </tr>\n",
       "    <tr>\n",
       "      <th>1</th>\n",
       "      <td>15</td>\n",
       "      <td>33983.333333</td>\n",
       "      <td>44.333333</td>\n",
       "      <td>7.600000</td>\n",
       "      <td>6.093867</td>\n",
       "    </tr>\n",
       "    <tr>\n",
       "      <th>2</th>\n",
       "      <td>12</td>\n",
       "      <td>21687.500000</td>\n",
       "      <td>43.000000</td>\n",
       "      <td>3.166667</td>\n",
       "      <td>10.754750</td>\n",
       "    </tr>\n",
       "  </tbody>\n",
       "</table>\n",
       "</div>"
      ],
      "text/plain": [
       "         No. of Areas  Average Property Rate  \\\n",
       "Cluster                                        \n",
       "0                  40           15616.250000   \n",
       "1                  15           33983.333333   \n",
       "2                  12           21687.500000   \n",
       "\n",
       "         Average No. of Schools & Colleges  \\\n",
       "Cluster                                      \n",
       "0                                42.625000   \n",
       "1                                44.333333   \n",
       "2                                43.000000   \n",
       "\n",
       "         Average No. of Tutorials & Classes  Startup Opportunity Index  \n",
       "Cluster                                                                 \n",
       "0                                 13.575000                   3.267425  \n",
       "1                                  7.600000                   6.093867  \n",
       "2                                  3.166667                  10.754750  "
      ]
     },
     "execution_count": 36,
     "metadata": {},
     "output_type": "execute_result"
    }
   ],
   "source": [
    "insight_columns = ['Rate','Schools_Colleges','Tutorials_Classes','Startup Opportunity Index','Cluster']\n",
    "Cluster_insights = Area_df[insight_columns].groupby(\"Cluster\").mean()\n",
    "Cluster_insights.insert(0, 'No. of Areas', Area_df[['Area','Cluster']].groupby(\"Cluster\").count())\n",
    "Cluster_insights.columns = ['No. of Areas','Average Property Rate','Average No. of Schools & Colleges','Average No. of Tutorials & Classes',\n",
    "                            'Startup Opportunity Index']\n",
    "Cluster_insights"
   ]
  },
  {
   "cell_type": "markdown",
   "metadata": {},
   "source": [
    " **Cluster insights**:\n",
    " \n",
    " All Clusters have similar 'Average No. of Schools & Colleges'\n",
    " * Cluster 0: Low 'Average Property Rate', More 'Average No. of Tutorials & Classes', Low 'Startup Opportunity Index'.\n",
    " * Cluster 1: High 'Average Property Rate', Moderate 'Average No. of Tutorials & Classes', Medium 'Startup Opportunity Index'.\n",
    " * Cluster 2: Medium 'Average Property Rate', Less 'Average No. of Tutorials & Classes', High 'Startup Opportunity Index'.\n",
    "\n",
    "|Cluster| Property Rate|Startup Opportunity Index|No. of Bussiness Competitors|\n",
    "|-----|--------|------|---------|\n",
    "|0   | Cheap | Low|High|\n",
    "|1   | Expensive   | Medium|Medium|\n",
    "|2   | Mid-Range  | High|Low|\n",
    "\n",
    "**Selecting \"Cluster 2\"** as it has less business competitors & moderate/affordable property rates."
   ]
  },
  {
   "cell_type": "code",
   "execution_count": 37,
   "metadata": {
    "scrolled": true
   },
   "outputs": [
    {
     "data": {
      "text/html": [
       "<div>\n",
       "<style scoped>\n",
       "    .dataframe tbody tr th:only-of-type {\n",
       "        vertical-align: middle;\n",
       "    }\n",
       "\n",
       "    .dataframe tbody tr th {\n",
       "        vertical-align: top;\n",
       "    }\n",
       "\n",
       "    .dataframe thead th {\n",
       "        text-align: right;\n",
       "    }\n",
       "</style>\n",
       "<table border=\"1\" class=\"dataframe\">\n",
       "  <thead>\n",
       "    <tr style=\"text-align: right;\">\n",
       "      <th></th>\n",
       "      <th>Area</th>\n",
       "      <th>Latitude</th>\n",
       "      <th>Longitude</th>\n",
       "      <th>Rate</th>\n",
       "      <th>Schools_Colleges</th>\n",
       "      <th>Tutorials_Classes</th>\n",
       "      <th>Startup Opportunity Index</th>\n",
       "      <th>Cluster</th>\n",
       "    </tr>\n",
       "  </thead>\n",
       "  <tbody>\n",
       "    <tr>\n",
       "      <th>0</th>\n",
       "      <td>Parel</td>\n",
       "      <td>18.990000</td>\n",
       "      <td>72.840000</td>\n",
       "      <td>18000.0</td>\n",
       "      <td>40.0</td>\n",
       "      <td>2.0</td>\n",
       "      <td>13.333</td>\n",
       "      <td>2</td>\n",
       "    </tr>\n",
       "    <tr>\n",
       "      <th>1</th>\n",
       "      <td>Kanjurmarg</td>\n",
       "      <td>19.130000</td>\n",
       "      <td>72.940000</td>\n",
       "      <td>10550.0</td>\n",
       "      <td>13.0</td>\n",
       "      <td>0.0</td>\n",
       "      <td>13.000</td>\n",
       "      <td>2</td>\n",
       "    </tr>\n",
       "    <tr>\n",
       "      <th>2</th>\n",
       "      <td>Worli</td>\n",
       "      <td>19.000000</td>\n",
       "      <td>72.815000</td>\n",
       "      <td>27500.0</td>\n",
       "      <td>25.0</td>\n",
       "      <td>1.0</td>\n",
       "      <td>12.500</td>\n",
       "      <td>2</td>\n",
       "    </tr>\n",
       "    <tr>\n",
       "      <th>3</th>\n",
       "      <td>Churchgate</td>\n",
       "      <td>18.930000</td>\n",
       "      <td>72.820000</td>\n",
       "      <td>28500.0</td>\n",
       "      <td>61.0</td>\n",
       "      <td>4.0</td>\n",
       "      <td>12.200</td>\n",
       "      <td>2</td>\n",
       "    </tr>\n",
       "    <tr>\n",
       "      <th>4</th>\n",
       "      <td>Ballard Estate</td>\n",
       "      <td>18.950000</td>\n",
       "      <td>72.840000</td>\n",
       "      <td>29000.0</td>\n",
       "      <td>60.0</td>\n",
       "      <td>4.0</td>\n",
       "      <td>12.000</td>\n",
       "      <td>2</td>\n",
       "    </tr>\n",
       "    <tr>\n",
       "      <th>5</th>\n",
       "      <td>Nariman Point</td>\n",
       "      <td>18.926000</td>\n",
       "      <td>72.823000</td>\n",
       "      <td>33500.0</td>\n",
       "      <td>56.0</td>\n",
       "      <td>4.0</td>\n",
       "      <td>11.200</td>\n",
       "      <td>2</td>\n",
       "    </tr>\n",
       "    <tr>\n",
       "      <th>6</th>\n",
       "      <td>Bangur Nagar</td>\n",
       "      <td>19.167362</td>\n",
       "      <td>72.832252</td>\n",
       "      <td>13500.0</td>\n",
       "      <td>50.0</td>\n",
       "      <td>4.0</td>\n",
       "      <td>10.000</td>\n",
       "      <td>2</td>\n",
       "    </tr>\n",
       "    <tr>\n",
       "      <th>7</th>\n",
       "      <td>Aarey Milk Colony</td>\n",
       "      <td>19.148493</td>\n",
       "      <td>72.881756</td>\n",
       "      <td>12950.0</td>\n",
       "      <td>10.0</td>\n",
       "      <td>0.0</td>\n",
       "      <td>10.000</td>\n",
       "      <td>2</td>\n",
       "    </tr>\n",
       "    <tr>\n",
       "      <th>10</th>\n",
       "      <td>Marine Lines</td>\n",
       "      <td>18.944700</td>\n",
       "      <td>72.824400</td>\n",
       "      <td>29000.0</td>\n",
       "      <td>76.0</td>\n",
       "      <td>7.0</td>\n",
       "      <td>9.500</td>\n",
       "      <td>2</td>\n",
       "    </tr>\n",
       "    <tr>\n",
       "      <th>11</th>\n",
       "      <td>Dagdi Chawl</td>\n",
       "      <td>18.977129</td>\n",
       "      <td>72.829131</td>\n",
       "      <td>17000.0</td>\n",
       "      <td>44.0</td>\n",
       "      <td>4.0</td>\n",
       "      <td>8.800</td>\n",
       "      <td>2</td>\n",
       "    </tr>\n",
       "    <tr>\n",
       "      <th>12</th>\n",
       "      <td>Chembur</td>\n",
       "      <td>19.051000</td>\n",
       "      <td>72.894000</td>\n",
       "      <td>19250.0</td>\n",
       "      <td>26.0</td>\n",
       "      <td>2.0</td>\n",
       "      <td>8.667</td>\n",
       "      <td>2</td>\n",
       "    </tr>\n",
       "    <tr>\n",
       "      <th>14</th>\n",
       "      <td>Pali Naka</td>\n",
       "      <td>19.062742</td>\n",
       "      <td>72.829396</td>\n",
       "      <td>21500.0</td>\n",
       "      <td>55.0</td>\n",
       "      <td>6.0</td>\n",
       "      <td>7.857</td>\n",
       "      <td>2</td>\n",
       "    </tr>\n",
       "  </tbody>\n",
       "</table>\n",
       "</div>"
      ],
      "text/plain": [
       "                 Area   Latitude  Longitude     Rate  Schools_Colleges  \\\n",
       "0               Parel  18.990000  72.840000  18000.0              40.0   \n",
       "1          Kanjurmarg  19.130000  72.940000  10550.0              13.0   \n",
       "2               Worli  19.000000  72.815000  27500.0              25.0   \n",
       "3          Churchgate  18.930000  72.820000  28500.0              61.0   \n",
       "4      Ballard Estate  18.950000  72.840000  29000.0              60.0   \n",
       "5       Nariman Point  18.926000  72.823000  33500.0              56.0   \n",
       "6        Bangur Nagar  19.167362  72.832252  13500.0              50.0   \n",
       "7   Aarey Milk Colony  19.148493  72.881756  12950.0              10.0   \n",
       "10       Marine Lines  18.944700  72.824400  29000.0              76.0   \n",
       "11        Dagdi Chawl  18.977129  72.829131  17000.0              44.0   \n",
       "12            Chembur  19.051000  72.894000  19250.0              26.0   \n",
       "14          Pali Naka  19.062742  72.829396  21500.0              55.0   \n",
       "\n",
       "    Tutorials_Classes  Startup Opportunity Index  Cluster  \n",
       "0                 2.0                     13.333        2  \n",
       "1                 0.0                     13.000        2  \n",
       "2                 1.0                     12.500        2  \n",
       "3                 4.0                     12.200        2  \n",
       "4                 4.0                     12.000        2  \n",
       "5                 4.0                     11.200        2  \n",
       "6                 4.0                     10.000        2  \n",
       "7                 0.0                     10.000        2  \n",
       "10                7.0                      9.500        2  \n",
       "11                4.0                      8.800        2  \n",
       "12                2.0                      8.667        2  \n",
       "14                6.0                      7.857        2  "
      ]
     },
     "execution_count": 37,
     "metadata": {},
     "output_type": "execute_result"
    }
   ],
   "source": [
    "Cluster_2 = Area_df[Area_df['Cluster'] == 2]\n",
    "Cluster_2"
   ]
  },
  {
   "cell_type": "markdown",
   "metadata": {},
   "source": [
    "Now, for more short listing of Areas apply a limit on Property prices depending on the investing capacity of the stakeholder."
   ]
  },
  {
   "cell_type": "code",
   "execution_count": 38,
   "metadata": {},
   "outputs": [
    {
     "data": {
      "text/html": [
       "<div>\n",
       "<style scoped>\n",
       "    .dataframe tbody tr th:only-of-type {\n",
       "        vertical-align: middle;\n",
       "    }\n",
       "\n",
       "    .dataframe tbody tr th {\n",
       "        vertical-align: top;\n",
       "    }\n",
       "\n",
       "    .dataframe thead th {\n",
       "        text-align: right;\n",
       "    }\n",
       "</style>\n",
       "<table border=\"1\" class=\"dataframe\">\n",
       "  <thead>\n",
       "    <tr style=\"text-align: right;\">\n",
       "      <th></th>\n",
       "      <th>Area</th>\n",
       "      <th>Location</th>\n",
       "      <th>Latitude</th>\n",
       "      <th>Longitude</th>\n",
       "      <th>Rate</th>\n",
       "      <th>Schools_Colleges</th>\n",
       "      <th>Tutorials_Classes</th>\n",
       "      <th>Startup Opportunity Index</th>\n",
       "      <th>Cluster</th>\n",
       "    </tr>\n",
       "  </thead>\n",
       "  <tbody>\n",
       "    <tr>\n",
       "      <th>0</th>\n",
       "      <td>Kanjurmarg</td>\n",
       "      <td>Eastern Suburbs</td>\n",
       "      <td>19.130000</td>\n",
       "      <td>72.940000</td>\n",
       "      <td>10550.0</td>\n",
       "      <td>13.0</td>\n",
       "      <td>0.0</td>\n",
       "      <td>13.0</td>\n",
       "      <td>2</td>\n",
       "    </tr>\n",
       "    <tr>\n",
       "      <th>1</th>\n",
       "      <td>Bangur Nagar</td>\n",
       "      <td>Goregaon,Western Suburbs</td>\n",
       "      <td>19.167362</td>\n",
       "      <td>72.832252</td>\n",
       "      <td>13500.0</td>\n",
       "      <td>50.0</td>\n",
       "      <td>4.0</td>\n",
       "      <td>10.0</td>\n",
       "      <td>2</td>\n",
       "    </tr>\n",
       "    <tr>\n",
       "      <th>2</th>\n",
       "      <td>Aarey Milk Colony</td>\n",
       "      <td>Goregaon,Western Suburbs</td>\n",
       "      <td>19.148493</td>\n",
       "      <td>72.881756</td>\n",
       "      <td>12950.0</td>\n",
       "      <td>10.0</td>\n",
       "      <td>0.0</td>\n",
       "      <td>10.0</td>\n",
       "      <td>2</td>\n",
       "    </tr>\n",
       "  </tbody>\n",
       "</table>\n",
       "</div>"
      ],
      "text/plain": [
       "                Area                  Location   Latitude  Longitude     Rate  \\\n",
       "0         Kanjurmarg           Eastern Suburbs  19.130000  72.940000  10550.0   \n",
       "1       Bangur Nagar  Goregaon,Western Suburbs  19.167362  72.832252  13500.0   \n",
       "2  Aarey Milk Colony  Goregaon,Western Suburbs  19.148493  72.881756  12950.0   \n",
       "\n",
       "   Schools_Colleges  Tutorials_Classes  Startup Opportunity Index  Cluster  \n",
       "0              13.0                0.0                       13.0        2  \n",
       "1              50.0                4.0                       10.0        2  \n",
       "2              10.0                0.0                       10.0        2  "
      ]
     },
     "execution_count": 38,
     "metadata": {},
     "output_type": "execute_result"
    }
   ],
   "source": [
    "condition_PropertyRateLimit = Cluster_2['Rate'] <= 15000\n",
    "Selected_Areas = Cluster_2 [condition_PropertyRateLimit]\n",
    "Selected_Areas.reset_index(inplace = True, drop = True)\n",
    "Selected_Areas = Selected_Areas.merge(neighborhood_df, on = [\"Area\",\"Latitude\",\"Longitude\"], how = \"inner\")\n",
    "cols = Selected_Areas.columns.tolist()\n",
    "cols = cols[0:1] + cols[-1:] + cols[1:-1]\n",
    "Selected_Areas = Selected_Areas[cols]\n",
    "Selected_Areas"
   ]
  },
  {
   "cell_type": "code",
   "execution_count": 39,
   "metadata": {
    "scrolled": true
   },
   "outputs": [
    {
     "data": {
      "text/html": [
       "<div style=\"width:100%;\"><div style=\"position:relative;width:100%;height:0;padding-bottom:60%;\"><span style=\"color:#565656\">Make this Notebook Trusted to load map: File -> Trust Notebook</span><iframe src=\"about:blank\" style=\"position:absolute;width:100%;height:100%;left:0;top:0;border:none !important;\" data-html=PCFET0NUWVBFIGh0bWw+CjxoZWFkPiAgICAKICAgIDxtZXRhIGh0dHAtZXF1aXY9ImNvbnRlbnQtdHlwZSIgY29udGVudD0idGV4dC9odG1sOyBjaGFyc2V0PVVURi04IiAvPgogICAgPHNjcmlwdD5MX1BSRUZFUl9DQU5WQVMgPSBmYWxzZTsgTF9OT19UT1VDSCA9IGZhbHNlOyBMX0RJU0FCTEVfM0QgPSBmYWxzZTs8L3NjcmlwdD4KICAgIDxzY3JpcHQgc3JjPSJodHRwczovL2Nkbi5qc2RlbGl2ci5uZXQvbnBtL2xlYWZsZXRAMS4yLjAvZGlzdC9sZWFmbGV0LmpzIj48L3NjcmlwdD4KICAgIDxzY3JpcHQgc3JjPSJodHRwczovL2FqYXguZ29vZ2xlYXBpcy5jb20vYWpheC9saWJzL2pxdWVyeS8xLjExLjEvanF1ZXJ5Lm1pbi5qcyI+PC9zY3JpcHQ+CiAgICA8c2NyaXB0IHNyYz0iaHR0cHM6Ly9tYXhjZG4uYm9vdHN0cmFwY2RuLmNvbS9ib290c3RyYXAvMy4yLjAvanMvYm9vdHN0cmFwLm1pbi5qcyI+PC9zY3JpcHQ+CiAgICA8c2NyaXB0IHNyYz0iaHR0cHM6Ly9jZG5qcy5jbG91ZGZsYXJlLmNvbS9hamF4L2xpYnMvTGVhZmxldC5hd2Vzb21lLW1hcmtlcnMvMi4wLjIvbGVhZmxldC5hd2Vzb21lLW1hcmtlcnMuanMiPjwvc2NyaXB0PgogICAgPGxpbmsgcmVsPSJzdHlsZXNoZWV0IiBocmVmPSJodHRwczovL2Nkbi5qc2RlbGl2ci5uZXQvbnBtL2xlYWZsZXRAMS4yLjAvZGlzdC9sZWFmbGV0LmNzcyIvPgogICAgPGxpbmsgcmVsPSJzdHlsZXNoZWV0IiBocmVmPSJodHRwczovL21heGNkbi5ib290c3RyYXBjZG4uY29tL2Jvb3RzdHJhcC8zLjIuMC9jc3MvYm9vdHN0cmFwLm1pbi5jc3MiLz4KICAgIDxsaW5rIHJlbD0ic3R5bGVzaGVldCIgaHJlZj0iaHR0cHM6Ly9tYXhjZG4uYm9vdHN0cmFwY2RuLmNvbS9ib290c3RyYXAvMy4yLjAvY3NzL2Jvb3RzdHJhcC10aGVtZS5taW4uY3NzIi8+CiAgICA8bGluayByZWw9InN0eWxlc2hlZXQiIGhyZWY9Imh0dHBzOi8vbWF4Y2RuLmJvb3RzdHJhcGNkbi5jb20vZm9udC1hd2Vzb21lLzQuNi4zL2Nzcy9mb250LWF3ZXNvbWUubWluLmNzcyIvPgogICAgPGxpbmsgcmVsPSJzdHlsZXNoZWV0IiBocmVmPSJodHRwczovL2NkbmpzLmNsb3VkZmxhcmUuY29tL2FqYXgvbGlicy9MZWFmbGV0LmF3ZXNvbWUtbWFya2Vycy8yLjAuMi9sZWFmbGV0LmF3ZXNvbWUtbWFya2Vycy5jc3MiLz4KICAgIDxsaW5rIHJlbD0ic3R5bGVzaGVldCIgaHJlZj0iaHR0cHM6Ly9yYXdnaXQuY29tL3B5dGhvbi12aXN1YWxpemF0aW9uL2ZvbGl1bS9tYXN0ZXIvZm9saXVtL3RlbXBsYXRlcy9sZWFmbGV0LmF3ZXNvbWUucm90YXRlLmNzcyIvPgogICAgPHN0eWxlPmh0bWwsIGJvZHkge3dpZHRoOiAxMDAlO2hlaWdodDogMTAwJTttYXJnaW46IDA7cGFkZGluZzogMDt9PC9zdHlsZT4KICAgIDxzdHlsZT4jbWFwIHtwb3NpdGlvbjphYnNvbHV0ZTt0b3A6MDtib3R0b206MDtyaWdodDowO2xlZnQ6MDt9PC9zdHlsZT4KICAgIAogICAgICAgICAgICA8c3R5bGU+ICNtYXBfN2YwYjY1MjZlNjZiNGRlNDhhYTJlZTEzODI2MGMyODYgewogICAgICAgICAgICAgICAgcG9zaXRpb24gOiByZWxhdGl2ZTsKICAgICAgICAgICAgICAgIHdpZHRoIDogMTAwLjAlOwogICAgICAgICAgICAgICAgaGVpZ2h0OiAxMDAuMCU7CiAgICAgICAgICAgICAgICBsZWZ0OiAwLjAlOwogICAgICAgICAgICAgICAgdG9wOiAwLjAlOwogICAgICAgICAgICAgICAgfQogICAgICAgICAgICA8L3N0eWxlPgogICAgICAgIAo8L2hlYWQ+Cjxib2R5PiAgICAKICAgIAogICAgICAgICAgICA8ZGl2IGNsYXNzPSJmb2xpdW0tbWFwIiBpZD0ibWFwXzdmMGI2NTI2ZTY2YjRkZTQ4YWEyZWUxMzgyNjBjMjg2IiA+PC9kaXY+CiAgICAgICAgCjwvYm9keT4KPHNjcmlwdD4gICAgCiAgICAKCiAgICAgICAgICAgIAogICAgICAgICAgICAgICAgdmFyIGJvdW5kcyA9IG51bGw7CiAgICAgICAgICAgIAoKICAgICAgICAgICAgdmFyIG1hcF83ZjBiNjUyNmU2NmI0ZGU0OGFhMmVlMTM4MjYwYzI4NiA9IEwubWFwKAogICAgICAgICAgICAgICAgICAgICAgICAgICAgICAgICAgJ21hcF83ZjBiNjUyNmU2NmI0ZGU0OGFhMmVlMTM4MjYwYzI4NicsCiAgICAgICAgICAgICAgICAgICAgICAgICAgICAgICAgICB7Y2VudGVyOiBbMTkuMDg4NDkzLDcyLjg4MTc1Nl0sCiAgICAgICAgICAgICAgICAgICAgICAgICAgICAgICAgICB6b29tOiAxMSwKICAgICAgICAgICAgICAgICAgICAgICAgICAgICAgICAgIG1heEJvdW5kczogYm91bmRzLAogICAgICAgICAgICAgICAgICAgICAgICAgICAgICAgICAgbGF5ZXJzOiBbXSwKICAgICAgICAgICAgICAgICAgICAgICAgICAgICAgICAgIHdvcmxkQ29weUp1bXA6IGZhbHNlLAogICAgICAgICAgICAgICAgICAgICAgICAgICAgICAgICAgY3JzOiBMLkNSUy5FUFNHMzg1NwogICAgICAgICAgICAgICAgICAgICAgICAgICAgICAgICB9KTsKICAgICAgICAgICAgCiAgICAgICAgCiAgICAKICAgICAgICAgICAgdmFyIHRpbGVfbGF5ZXJfMGQzYjJkMzUxY2I1NDUzYWI2ZDhmYmRjYTYyYzYxZTYgPSBMLnRpbGVMYXllcigKICAgICAgICAgICAgICAgICdodHRwczovL3tzfS50aWxlLm9wZW5zdHJlZXRtYXAub3JnL3t6fS97eH0ve3l9LnBuZycsCiAgICAgICAgICAgICAgICB7CiAgImF0dHJpYnV0aW9uIjogbnVsbCwKICAiZGV0ZWN0UmV0aW5hIjogZmFsc2UsCiAgIm1heFpvb20iOiAxOCwKICAibWluWm9vbSI6IDEsCiAgIm5vV3JhcCI6IGZhbHNlLAogICJzdWJkb21haW5zIjogImFiYyIKfQogICAgICAgICAgICAgICAgKS5hZGRUbyhtYXBfN2YwYjY1MjZlNjZiNGRlNDhhYTJlZTEzODI2MGMyODYpOwogICAgICAgIAogICAgCiAgICAgICAgICAgIHZhciBjaXJjbGVfbWFya2VyXzZjZjc4YmUyNzk0NjQ4MGM5YTIwZjE1YTRjMTRhYjc5ID0gTC5jaXJjbGVNYXJrZXIoCiAgICAgICAgICAgICAgICBbMTkuMTMsNzIuOTRdLAogICAgICAgICAgICAgICAgewogICJidWJibGluZ01vdXNlRXZlbnRzIjogdHJ1ZSwKICAiY29sb3IiOiAiYmx1ZSIsCiAgImRhc2hBcnJheSI6IG51bGwsCiAgImRhc2hPZmZzZXQiOiBudWxsLAogICJmaWxsIjogdHJ1ZSwKICAiZmlsbENvbG9yIjogImJsdWUiLAogICJmaWxsT3BhY2l0eSI6IDAuNywKICAiZmlsbFJ1bGUiOiAiZXZlbm9kZCIsCiAgImxpbmVDYXAiOiAicm91bmQiLAogICJsaW5lSm9pbiI6ICJyb3VuZCIsCiAgIm9wYWNpdHkiOiAxLjAsCiAgInJhZGl1cyI6IDUsCiAgInN0cm9rZSI6IHRydWUsCiAgIndlaWdodCI6IDMKfQogICAgICAgICAgICAgICAgKS5hZGRUbyhtYXBfN2YwYjY1MjZlNjZiNGRlNDhhYTJlZTEzODI2MGMyODYpOwogICAgICAgICAgICAKICAgIAogICAgICAgICAgICB2YXIgcG9wdXBfODM0M2M0YTExN2UwNGRmNWEyOWM4NzhlMzA5YzIwMmEgPSBMLnBvcHVwKHttYXhXaWR0aDogJzMwMCd9KTsKCiAgICAgICAgICAgIAogICAgICAgICAgICAgICAgdmFyIGh0bWxfZWFlMmU2NTUyNTgzNGI5N2IzMWIwNmZhZDgyMGFlOWEgPSAkKCc8ZGl2IGlkPSJodG1sX2VhZTJlNjU1MjU4MzRiOTdiMzFiMDZmYWQ4MjBhZTlhIiBzdHlsZT0id2lkdGg6IDEwMC4wJTsgaGVpZ2h0OiAxMDAuMCU7Ij5BcmVhOiBLYW5qdXJtYXJnLCBMb2NhdGlvbjogRWFzdGVybiBTdWJ1cmJzLCBQcm9wZXJ0eSBSYXRlOiBScy4xMDU1MC9zcS5mdC48L2Rpdj4nKVswXTsKICAgICAgICAgICAgICAgIHBvcHVwXzgzNDNjNGExMTdlMDRkZjVhMjljODc4ZTMwOWMyMDJhLnNldENvbnRlbnQoaHRtbF9lYWUyZTY1NTI1ODM0Yjk3YjMxYjA2ZmFkODIwYWU5YSk7CiAgICAgICAgICAgIAoKICAgICAgICAgICAgY2lyY2xlX21hcmtlcl82Y2Y3OGJlMjc5NDY0ODBjOWEyMGYxNWE0YzE0YWI3OS5iaW5kUG9wdXAocG9wdXBfODM0M2M0YTExN2UwNGRmNWEyOWM4NzhlMzA5YzIwMmEpOwoKICAgICAgICAgICAgCiAgICAgICAgCiAgICAKICAgICAgICAgICAgdmFyIGNpcmNsZV9tYXJrZXJfNmYzYmRjMmU5NzU1NDc5ZGFjMjdlMDIwODU1YWM2ZWEgPSBMLmNpcmNsZU1hcmtlcigKICAgICAgICAgICAgICAgIFsxOS4xNjczNjIsNzIuODMyMjUyXSwKICAgICAgICAgICAgICAgIHsKICAiYnViYmxpbmdNb3VzZUV2ZW50cyI6IHRydWUsCiAgImNvbG9yIjogImJsdWUiLAogICJkYXNoQXJyYXkiOiBudWxsLAogICJkYXNoT2Zmc2V0IjogbnVsbCwKICAiZmlsbCI6IHRydWUsCiAgImZpbGxDb2xvciI6ICJibHVlIiwKICAiZmlsbE9wYWNpdHkiOiAwLjcsCiAgImZpbGxSdWxlIjogImV2ZW5vZGQiLAogICJsaW5lQ2FwIjogInJvdW5kIiwKICAibGluZUpvaW4iOiAicm91bmQiLAogICJvcGFjaXR5IjogMS4wLAogICJyYWRpdXMiOiA1LAogICJzdHJva2UiOiB0cnVlLAogICJ3ZWlnaHQiOiAzCn0KICAgICAgICAgICAgICAgICkuYWRkVG8obWFwXzdmMGI2NTI2ZTY2YjRkZTQ4YWEyZWUxMzgyNjBjMjg2KTsKICAgICAgICAgICAgCiAgICAKICAgICAgICAgICAgdmFyIHBvcHVwXzE3Mjg1NzM2ODhlNDQzYWE5OWU4NWE4YzQ4Y2NjN2E2ID0gTC5wb3B1cCh7bWF4V2lkdGg6ICczMDAnfSk7CgogICAgICAgICAgICAKICAgICAgICAgICAgICAgIHZhciBodG1sX2JiZmY2MzJjNmQ4MDQ1MjA4ZmM2ZTYwMGQwYzE1NGVkID0gJCgnPGRpdiBpZD0iaHRtbF9iYmZmNjMyYzZkODA0NTIwOGZjNmU2MDBkMGMxNTRlZCIgc3R5bGU9IndpZHRoOiAxMDAuMCU7IGhlaWdodDogMTAwLjAlOyI+QXJlYTogQmFuZ3VyIE5hZ2FyLCBMb2NhdGlvbjogR29yZWdhb24sV2VzdGVybiBTdWJ1cmJzLCBQcm9wZXJ0eSBSYXRlOiBScy4xMzUwMC9zcS5mdC48L2Rpdj4nKVswXTsKICAgICAgICAgICAgICAgIHBvcHVwXzE3Mjg1NzM2ODhlNDQzYWE5OWU4NWE4YzQ4Y2NjN2E2LnNldENvbnRlbnQoaHRtbF9iYmZmNjMyYzZkODA0NTIwOGZjNmU2MDBkMGMxNTRlZCk7CiAgICAgICAgICAgIAoKICAgICAgICAgICAgY2lyY2xlX21hcmtlcl82ZjNiZGMyZTk3NTU0NzlkYWMyN2UwMjA4NTVhYzZlYS5iaW5kUG9wdXAocG9wdXBfMTcyODU3MzY4OGU0NDNhYTk5ZTg1YThjNDhjY2M3YTYpOwoKICAgICAgICAgICAgCiAgICAgICAgCiAgICAKICAgICAgICAgICAgdmFyIGNpcmNsZV9tYXJrZXJfYzBhYTNjYzFmYWZjNGRkOWFjYzExNDlkYjNlYTEzZjcgPSBMLmNpcmNsZU1hcmtlcigKICAgICAgICAgICAgICAgIFsxOS4xNDg0OTMsNzIuODgxNzU2MDAwMDAwMDFdLAogICAgICAgICAgICAgICAgewogICJidWJibGluZ01vdXNlRXZlbnRzIjogdHJ1ZSwKICAiY29sb3IiOiAiYmx1ZSIsCiAgImRhc2hBcnJheSI6IG51bGwsCiAgImRhc2hPZmZzZXQiOiBudWxsLAogICJmaWxsIjogdHJ1ZSwKICAiZmlsbENvbG9yIjogImJsdWUiLAogICJmaWxsT3BhY2l0eSI6IDAuNywKICAiZmlsbFJ1bGUiOiAiZXZlbm9kZCIsCiAgImxpbmVDYXAiOiAicm91bmQiLAogICJsaW5lSm9pbiI6ICJyb3VuZCIsCiAgIm9wYWNpdHkiOiAxLjAsCiAgInJhZGl1cyI6IDUsCiAgInN0cm9rZSI6IHRydWUsCiAgIndlaWdodCI6IDMKfQogICAgICAgICAgICAgICAgKS5hZGRUbyhtYXBfN2YwYjY1MjZlNjZiNGRlNDhhYTJlZTEzODI2MGMyODYpOwogICAgICAgICAgICAKICAgIAogICAgICAgICAgICB2YXIgcG9wdXBfODEzY2E0Y2IzZTk1NDk2YmIzNzFmMWUzNjE1MzRjN2UgPSBMLnBvcHVwKHttYXhXaWR0aDogJzMwMCd9KTsKCiAgICAgICAgICAgIAogICAgICAgICAgICAgICAgdmFyIGh0bWxfZWNmMjNiMzdlZTExNDI5ZDg4MzFmNjE2ZjAzMjQ5OTYgPSAkKCc8ZGl2IGlkPSJodG1sX2VjZjIzYjM3ZWUxMTQyOWQ4ODMxZjYxNmYwMzI0OTk2IiBzdHlsZT0id2lkdGg6IDEwMC4wJTsgaGVpZ2h0OiAxMDAuMCU7Ij5BcmVhOiBBYXJleSBNaWxrIENvbG9ueSwgTG9jYXRpb246IEdvcmVnYW9uLFdlc3Rlcm4gU3VidXJicywgUHJvcGVydHkgUmF0ZTogUnMuMTI5NTAvc3EuZnQuPC9kaXY+JylbMF07CiAgICAgICAgICAgICAgICBwb3B1cF84MTNjYTRjYjNlOTU0OTZiYjM3MWYxZTM2MTUzNGM3ZS5zZXRDb250ZW50KGh0bWxfZWNmMjNiMzdlZTExNDI5ZDg4MzFmNjE2ZjAzMjQ5OTYpOwogICAgICAgICAgICAKCiAgICAgICAgICAgIGNpcmNsZV9tYXJrZXJfYzBhYTNjYzFmYWZjNGRkOWFjYzExNDlkYjNlYTEzZjcuYmluZFBvcHVwKHBvcHVwXzgxM2NhNGNiM2U5NTQ5NmJiMzcxZjFlMzYxNTM0YzdlKTsKCiAgICAgICAgICAgIAogICAgICAgIAo8L3NjcmlwdD4= onload=\"this.contentDocument.open();this.contentDocument.write(atob(this.getAttribute('data-html')));this.contentDocument.close();\" allowfullscreen webkitallowfullscreen mozallowfullscreen></iframe></div></div>"
      ],
      "text/plain": [
       "<folium.folium.Map at 0x19c67ccb2b0>"
      ]
     },
     "execution_count": 39,
     "metadata": {},
     "output_type": "execute_result"
    }
   ],
   "source": [
    "Selected_Areas_map = folium.Map(location=[19.088493, 72.881756], zoom_start=11)\n",
    "\n",
    "# add Selected_Areas to map\n",
    "for lat, lng, area, rate, location in zip(Selected_Areas['Latitude'], Selected_Areas['Longitude'], Selected_Areas['Area'],\n",
    "                                           Selected_Areas['Rate'], Selected_Areas['Location']):\n",
    "    label = 'Area: {}, Location: {}, Property Rate: Rs.{}/sq.ft.'.format(area ,location, int(rate))\n",
    "    label = folium.Popup(label, parse_html=True)\n",
    "    folium.CircleMarker(\n",
    "        [lat, lng],\n",
    "        radius=5,\n",
    "        popup=label,\n",
    "        color= 'blue' ,\n",
    "        fill=True,\n",
    "        fill_color= 'blue' ,\n",
    "        fill_opacity=0.7,\n",
    "        parse_html=False).add_to(Selected_Areas_map)  \n",
    "    \n",
    "Selected_Areas_map"
   ]
  },
  {
   "cell_type": "markdown",
   "metadata": {},
   "source": [
    "## Results <a name=\"results\"></a>"
   ]
  },
  {
   "cell_type": "markdown",
   "metadata": {},
   "source": [
    "Optimal Locations to startup Tuition Classes or franchise of existing Classes in Mumbai having high number of Schools & college and less existing Classes and affordable property rates are\n",
    "* Kanjurmarg\n",
    "* Bangur Nagar\n",
    "* Aarey Milk Colony\t"
   ]
  },
  {
   "cell_type": "markdown",
   "metadata": {},
   "source": [
    "## Discussion<a name=\"Discussion\"></a>"
   ]
  },
  {
   "cell_type": "markdown",
   "metadata": {},
   "source": [
    "Our analysis shows that:\n",
    "* Property rates are increasing as we move from North to South region of Mumbai. 'Cluster 2' is in central region of Mumbai, therefore having mid-range Properties Rates. \n",
    "* All 3 Clusters are having similar number of Schols & Colleges. But 'Cluster 2' is having lowest number of existing Classes & Tutorials, resulting in less Bussiness competition, therefore having good Bussiness Opportunity.\n",
    "\n",
    "Suggestions for Future research:\n",
    "* Population Density of each Areas can be web-scrapped from Wikipedia and can be a parameter/feature in clustering locations. \n",
    "* Areas with high Population Density should be given preferences."
   ]
  },
  {
   "cell_type": "markdown",
   "metadata": {},
   "source": [
    "## Conclusion <a name=\"conclusion\"></a>"
   ]
  },
  {
   "cell_type": "markdown",
   "metadata": {},
   "source": [
    "In this project, we have gone through the process of identifying the business problem , specifying the data required, extracting and preparing the data, performing machine learning by clustering the data into 3 clusters(no. of cluster decided by Elbow Method) based on their similarities, and lastly providing recommendations to the stakeholders interested in opening a private Tuition Classes or management of existing Classes to expand thier bussiness & revenue by opening new branch/franchise in Mumbai. To answer the business question that was raised in the introduction session , the answer proposed by this project is: The Areas in cluster 2 are the most optimal locations to open a new Classes and with a properties rates limit depending on investment capacity of stakeholders(Rupees 15,000/- per square feet), top 3 optimal Areas are (1) Kanjurmarg. (2) Bangur Nagar. (3) Aarey Milk Colony."
   ]
  }
 ],
 "metadata": {
  "kernelspec": {
   "display_name": "Python 3",
   "language": "python",
   "name": "python3"
  },
  "language_info": {
   "codemirror_mode": {
    "name": "ipython",
    "version": 3
   },
   "file_extension": ".py",
   "mimetype": "text/x-python",
   "name": "python",
   "nbconvert_exporter": "python",
   "pygments_lexer": "ipython3",
   "version": "3.8.3"
  }
 },
 "nbformat": 4,
 "nbformat_minor": 4
}
